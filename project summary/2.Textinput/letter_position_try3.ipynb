{
 "cells": [
  {
   "cell_type": "code",
   "execution_count": 1,
   "metadata": {
    "scrolled": true
   },
   "outputs": [
    {
     "name": "stderr",
     "output_type": "stream",
     "text": [
      "Using TensorFlow backend.\n"
     ]
    }
   ],
   "source": [
    "import numpy as np\n",
    "from keras.models import Sequential\n",
    "from keras.layers import Dense\n",
    "from myfun import caeserde\n",
    "from myfun import data_genelization\n",
    "from myfun import data_test\n",
    "key = 3\n",
    "size = 26"
   ]
  },
  {
   "cell_type": "markdown",
   "metadata": {},
   "source": [
    "As 3 letters have 17576 different combinations, we set the for loop times to 20000."
   ]
  },
  {
   "cell_type": "code",
   "execution_count": 37,
   "metadata": {},
   "outputs": [],
   "source": [
    "# example\n",
    "x_train, y_train, y_train_small = data_genelization(sample_size = 3, loops = 20000)"
   ]
  },
  {
   "cell_type": "code",
   "execution_count": 40,
   "metadata": {},
   "outputs": [],
   "source": [
    "# assume that we have got our data x_train y_train\n",
    "# now we are going to train it in our model\n",
    "model = Sequential()\n",
    "model.add(Dense(20, input_dim=x_train.shape[1], activation='relu'))\n",
    "model.add(Dense(20, activation='relu'))\n",
    "model.add(Dense(y_train.shape[1], activation='sigmoid'))\n",
    "model.compile(loss='binary_crossentropy', optimizer='adam', metrics=['accuracy'])"
   ]
  },
  {
   "cell_type": "code",
   "execution_count": 41,
   "metadata": {},
   "outputs": [
    {
     "name": "stdout",
     "output_type": "stream",
     "text": [
      "Epoch 1/20\n",
      "20000/20000 [==============================] - 1s 42us/step - loss: 0.2133 - acc: 0.9441\n",
      "Epoch 2/20\n",
      "20000/20000 [==============================] - 1s 29us/step - loss: 0.1243 - acc: 0.9621\n",
      "Epoch 3/20\n",
      "20000/20000 [==============================] - 1s 28us/step - loss: 0.0866 - acc: 0.9695\n",
      "Epoch 4/20\n",
      "20000/20000 [==============================] - 1s 27us/step - loss: 0.0629 - acc: 0.9783\n",
      "Epoch 5/20\n",
      "20000/20000 [==============================] - 1s 29us/step - loss: 0.0479 - acc: 0.9841\n",
      "Epoch 6/20\n",
      "20000/20000 [==============================] - 1s 29us/step - loss: 0.0368 - acc: 0.9882\n",
      "Epoch 7/20\n",
      "20000/20000 [==============================] - 1s 27us/step - loss: 0.0277 - acc: 0.9914\n",
      "Epoch 8/20\n",
      "20000/20000 [==============================] - 1s 27us/step - loss: 0.0202 - acc: 0.9941\n",
      "Epoch 9/20\n",
      "20000/20000 [==============================] - 1s 27us/step - loss: 0.0140 - acc: 0.9963\n",
      "Epoch 10/20\n",
      "20000/20000 [==============================] - 1s 27us/step - loss: 0.0090 - acc: 0.9979\n",
      "Epoch 11/20\n",
      "20000/20000 [==============================] - 1s 30us/step - loss: 0.0055 - acc: 0.9990\n",
      "Epoch 12/20\n",
      "20000/20000 [==============================] - 1s 30us/step - loss: 0.0033 - acc: 0.9996\n",
      "Epoch 13/20\n",
      "20000/20000 [==============================] - 1s 27us/step - loss: 0.0019 - acc: 0.9999\n",
      "Epoch 14/20\n",
      "20000/20000 [==============================] - 1s 27us/step - loss: 0.0012 - acc: 1.0000\n",
      "Epoch 15/20\n",
      "20000/20000 [==============================] - 1s 29us/step - loss: 7.2790e-04 - acc: 1.0000\n",
      "Epoch 16/20\n",
      "20000/20000 [==============================] - 1s 29us/step - loss: 4.6762e-04 - acc: 1.0000\n",
      "Epoch 17/20\n",
      "20000/20000 [==============================] - 1s 29us/step - loss: 3.0626e-04 - acc: 1.0000\n",
      "Epoch 18/20\n",
      "20000/20000 [==============================] - 1s 29us/step - loss: 2.0392e-04 - acc: 1.0000\n",
      "Epoch 19/20\n",
      "20000/20000 [==============================] - 1s 27us/step - loss: 1.3773e-04 - acc: 1.0000\n",
      "Epoch 20/20\n",
      "20000/20000 [==============================] - 1s 29us/step - loss: 9.3850e-05 - acc: 1.0000\n"
     ]
    },
    {
     "data": {
      "text/plain": [
       "<keras.callbacks.History at 0xb26751be0>"
      ]
     },
     "execution_count": 41,
     "metadata": {},
     "output_type": "execute_result"
    }
   ],
   "source": [
    "model.fit(x_train,y_train,epochs = 20)"
   ]
  },
  {
   "cell_type": "code",
   "execution_count": 42,
   "metadata": {},
   "outputs": [],
   "source": [
    "predictions = model.predict(x_train)"
   ]
  },
  {
   "cell_type": "code",
   "execution_count": 43,
   "metadata": {},
   "outputs": [],
   "source": [
    "def num2str(index1, index2, index3, size = 26):\n",
    "    I2L = dict(zip(range(size), \"ABCDEFGHIJKLMNOPQRSTUVWXYZ\"))\n",
    "    return ([I2L[index1], I2L[index2], I2L[index3]])\n",
    "\n",
    "\n",
    "def predict_results_only_3(model, x_train, y_train):\n",
    "    predictions = model.predict(x_train)\n",
    "    # index1, index2, label1, label2 represent two predictions and two labels respectively\n",
    "    index1 = np.argmax(predictions[:, 0:26], axis=1)\n",
    "    index2 = np.argmax(predictions[:, 26:52], axis=1)\n",
    "    index3 = np.argmax(predictions[:, 52:-1], axis=1)\n",
    "    label1 = np.argmax(y_train[:, 0:26], axis=1)\n",
    "    label2 = np.argmax(y_train[:, 26:52], axis=1)\n",
    "    label3 = np.argmax(y_train[:, 52:-1], axis=1)\n",
    "\n",
    "    # Change number to string and do an output\n",
    "    prediction_list = list(map(num2str, index1, index2, index3))\n",
    "    label_list = list(map(num2str, label1, label2, label3))\n",
    "\n",
    "    return (prediction_list, label_list)\n",
    "\n",
    "\n",
    "# 理论上只要把矩阵转成字符就好了"
   ]
  },
  {
   "cell_type": "code",
   "execution_count": 44,
   "metadata": {},
   "outputs": [],
   "source": [
    "def find_diff(list1, list2):   \n",
    "    if \"\".join(list1) != \"\".join(list2):\n",
    "        return(\"\".join(list1), \"\".join(list2))\n",
    "    else:\n",
    "        return(True)"
   ]
  },
  {
   "cell_type": "code",
   "execution_count": 45,
   "metadata": {
    "scrolled": true
   },
   "outputs": [
    {
     "name": "stdout",
     "output_type": "stream",
     "text": [
      "1000/1000 [==============================] - 0s 81us/step\n",
      "\n",
      "acc: 100.00%\n"
     ]
    }
   ],
   "source": [
    "x_test, y_test, y_test_small = data_genelization(sample_size = 3)\n",
    "prediction_list, label_list = predict_results_only_3(model, x_test, y_test)\n",
    "#prediction_list, label_list = predict_results_only_3(model, x_train, y_train)"
   ]
  },
  {
   "cell_type": "code",
   "execution_count": 46,
   "metadata": {},
   "outputs": [],
   "source": [
    "# How ever"
   ]
  },
  {
   "cell_type": "code",
   "execution_count": 54,
   "metadata": {},
   "outputs": [
    {
     "name": "stdout",
     "output_type": "stream",
     "text": [
      "Top 6 predictions:\n",
      "WTG WTG\n",
      "WHL WHL\n",
      "QUE QUE\n",
      "PHU PHU\n",
      "IJY IJY\n",
      "XTE XTE\n"
     ]
    }
   ],
   "source": [
    "print(\"Top 6 predictions:\")\n",
    "for i in range(6):\n",
    "    print(\"\".join(prediction_list[i]), \"\".join(label_list[i]))"
   ]
  },
  {
   "cell_type": "code",
   "execution_count": 60,
   "metadata": {},
   "outputs": [
    {
     "name": "stdout",
     "output_type": "stream",
     "text": [
      "Show some errors:\n",
      "('MQD', 'MQA')\n",
      "('KSO', 'KSA')\n",
      "('NSO', 'NSA')\n",
      "('DGC', 'DGA')\n",
      "('ZMC', 'ZMA')\n",
      "('TUO', 'TUA')\n",
      "The num of total errors: 36\n",
      "The accuracy: 0.964\n"
     ]
    }
   ],
   "source": [
    "diff = list(map(find_diff, prediction_list, label_list))\n",
    "output = []\n",
    "for x in diff:\n",
    "    if x not in output:\n",
    "        output.append(x)\n",
    "print(\"Show some errors:\")\n",
    "output.remove(True)\n",
    "for i in range(6):\n",
    "    print(output[i])\n",
    "print(\"The num of total errors:\", len(output))\n",
    "print(\"The accuracy:\", 1-len(output)/1000)"
   ]
  },
  {
   "cell_type": "code",
   "execution_count": null,
   "metadata": {},
   "outputs": [],
   "source": []
  }
 ],
 "metadata": {
  "kernelspec": {
   "display_name": "Python 3",
   "language": "python",
   "name": "python3"
  },
  "language_info": {
   "codemirror_mode": {
    "name": "ipython",
    "version": 3
   },
   "file_extension": ".py",
   "mimetype": "text/x-python",
   "name": "python",
   "nbconvert_exporter": "python",
   "pygments_lexer": "ipython3",
   "version": "3.7.1"
  },
  "toc": {
   "base_numbering": 1,
   "nav_menu": {},
   "number_sections": true,
   "sideBar": true,
   "skip_h1_title": false,
   "title_cell": "Table of Contents",
   "title_sidebar": "Contents",
   "toc_cell": false,
   "toc_position": {},
   "toc_section_display": true,
   "toc_window_display": false
  }
 },
 "nbformat": 4,
 "nbformat_minor": 2
}
