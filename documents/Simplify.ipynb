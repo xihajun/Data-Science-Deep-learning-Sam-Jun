{
 "cells": [
  {
   "cell_type": "code",
   "execution_count": null,
   "metadata": {},
   "outputs": [],
   "source": [
    "# try (0,1) -> (1,0)"
   ]
  },
  {
   "cell_type": "code",
   "execution_count": 6,
   "metadata": {},
   "outputs": [],
   "source": [
    "import tensorflow as tf\n",
    "import pandas as pd\n",
    "from keras.models import Sequential\n",
    "from keras.layers import Dense\n",
    "import numpy as np\n",
    "# fix random seed for reproducibility\n",
    "np.random.seed(7)"
   ]
  },
  {
   "cell_type": "code",
   "execution_count": 7,
   "metadata": {},
   "outputs": [
    {
     "ename": "AttributeError",
     "evalue": "module 'tensorflow' has no attribute 'sequential'",
     "output_type": "error",
     "traceback": [
      "\u001b[0;31m---------------------------------------------------------------------------\u001b[0m",
      "\u001b[0;31mAttributeError\u001b[0m                            Traceback (most recent call last)",
      "\u001b[0;32m<ipython-input-7-bb0cc2d7e431>\u001b[0m in \u001b[0;36m<module>\u001b[0;34m\u001b[0m\n\u001b[1;32m      1\u001b[0m \u001b[0mmodel1\u001b[0m \u001b[0;34m=\u001b[0m \u001b[0;32mNone\u001b[0m\u001b[0;34m\u001b[0m\u001b[0;34m\u001b[0m\u001b[0m\n\u001b[0;32m----> 2\u001b[0;31m \u001b[0mmodel1\u001b[0m \u001b[0;34m=\u001b[0m \u001b[0mtf\u001b[0m\u001b[0;34m.\u001b[0m\u001b[0msequential\u001b[0m\u001b[0;34m(\u001b[0m\u001b[0;34m)\u001b[0m\u001b[0;34m\u001b[0m\u001b[0;34m\u001b[0m\u001b[0m\n\u001b[0m\u001b[1;32m      3\u001b[0m \u001b[0mmodel1\u001b[0m\u001b[0;34m.\u001b[0m\u001b[0madd\u001b[0m\u001b[0;34m(\u001b[0m\u001b[0mDense\u001b[0m\u001b[0;34m(\u001b[0m\u001b[0;36m11\u001b[0m\u001b[0;34m,\u001b[0m \u001b[0minput_dim\u001b[0m\u001b[0;34m=\u001b[0m\u001b[0;36m1\u001b[0m\u001b[0;34m,\u001b[0m \u001b[0mactivation\u001b[0m\u001b[0;34m=\u001b[0m\u001b[0;34m'relu'\u001b[0m\u001b[0;34m)\u001b[0m\u001b[0;34m)\u001b[0m\u001b[0;34m\u001b[0m\u001b[0;34m\u001b[0m\u001b[0m\n\u001b[1;32m      4\u001b[0m \u001b[0mmodel1\u001b[0m\u001b[0;34m.\u001b[0m\u001b[0madd\u001b[0m\u001b[0;34m(\u001b[0m\u001b[0mDense\u001b[0m\u001b[0;34m(\u001b[0m\u001b[0;36m2\u001b[0m\u001b[0;34m,\u001b[0m \u001b[0mactivation\u001b[0m\u001b[0;34m=\u001b[0m\u001b[0;34m'relu'\u001b[0m\u001b[0;34m)\u001b[0m\u001b[0;34m)\u001b[0m\u001b[0;34m\u001b[0m\u001b[0;34m\u001b[0m\u001b[0m\n\u001b[1;32m      5\u001b[0m \u001b[0mmodel1\u001b[0m\u001b[0;34m.\u001b[0m\u001b[0madd\u001b[0m\u001b[0;34m(\u001b[0m\u001b[0mDense\u001b[0m\u001b[0;34m(\u001b[0m\u001b[0;36m1\u001b[0m\u001b[0;34m,\u001b[0m \u001b[0mactivation\u001b[0m\u001b[0;34m=\u001b[0m\u001b[0;34m'sigmoid'\u001b[0m\u001b[0;34m)\u001b[0m\u001b[0;34m)\u001b[0m\u001b[0;34m\u001b[0m\u001b[0;34m\u001b[0m\u001b[0m\n",
      "\u001b[0;31mAttributeError\u001b[0m: module 'tensorflow' has no attribute 'sequential'"
     ]
    }
   ],
   "source": [
    "model1 = None\n",
    "model1 = tf.sequential()\n",
    "model1.add(Dense(11, input_dim=1, activation='relu'))\n",
    "model1.add(Dense(2, activation='relu'))\n",
    "model1.add(Dense(1, activation='sigmoid'))\n",
    "model1.compile(loss='poisson', optimizer='adam', metrics=['accuracy'])"
   ]
  },
  {
   "cell_type": "code",
   "execution_count": 5,
   "metadata": {},
   "outputs": [
    {
     "ename": "NameError",
     "evalue": "name 'sess' is not defined",
     "output_type": "error",
     "traceback": [
      "\u001b[0;31m---------------------------------------------------------------------------\u001b[0m",
      "\u001b[0;31mNameError\u001b[0m                                 Traceback (most recent call last)",
      "\u001b[0;32m<ipython-input-5-8e826d576354>\u001b[0m in \u001b[0;36m<module>\u001b[0;34m\u001b[0m\n\u001b[0;32m----> 1\u001b[0;31m \u001b[0mtf\u001b[0m\u001b[0;34m.\u001b[0m\u001b[0msummary\u001b[0m\u001b[0;34m.\u001b[0m\u001b[0mFileWriter\u001b[0m\u001b[0;34m(\u001b[0m\u001b[0;34m'./graphs'\u001b[0m\u001b[0;34m,\u001b[0m\u001b[0msess\u001b[0m\u001b[0;34m.\u001b[0m\u001b[0mgraph\u001b[0m\u001b[0;34m)\u001b[0m\u001b[0;34m\u001b[0m\u001b[0;34m\u001b[0m\u001b[0m\n\u001b[0m\u001b[1;32m      2\u001b[0m \u001b[0;34m\u001b[0m\u001b[0m\n",
      "\u001b[0;31mNameError\u001b[0m: name 'sess' is not defined"
     ]
    }
   ],
   "source": [
    "tf.summary.FileWriter('./graphs',sess.graph)\n",
    "\n"
   ]
  },
  {
   "cell_type": "code",
   "execution_count": 9,
   "metadata": {},
   "outputs": [],
   "source": [
    "a= np.array([[0,1],[1,0]])"
   ]
  },
  {
   "cell_type": "code",
   "execution_count": 10,
   "metadata": {},
   "outputs": [],
   "source": [
    "b = np.array([[1,0],[0,1]])"
   ]
  },
  {
   "cell_type": "code",
   "execution_count": 17,
   "metadata": {},
   "outputs": [
    {
     "name": "stdout",
     "output_type": "stream",
     "text": [
      "Epoch 1/100\n",
      "2/2 [==============================] - 0s 110ms/step - loss: 0.7977 - acc: 0.5000\n",
      "Epoch 2/100\n",
      "2/2 [==============================] - 0s 566us/step - loss: 0.7973 - acc: 0.5000\n",
      "Epoch 3/100\n",
      "2/2 [==============================] - 0s 617us/step - loss: 0.7969 - acc: 0.5000\n",
      "Epoch 4/100\n",
      "2/2 [==============================] - 0s 647us/step - loss: 0.7965 - acc: 0.5000\n",
      "Epoch 5/100\n",
      "2/2 [==============================] - 0s 677us/step - loss: 0.7961 - acc: 0.5000\n",
      "Epoch 6/100\n",
      "2/2 [==============================] - 0s 578us/step - loss: 0.7957 - acc: 0.5000\n",
      "Epoch 7/100\n",
      "2/2 [==============================] - 0s 580us/step - loss: 0.7953 - acc: 0.5000\n",
      "Epoch 8/100\n",
      "2/2 [==============================] - 0s 578us/step - loss: 0.7948 - acc: 0.5000\n",
      "Epoch 9/100\n",
      "2/2 [==============================] - 0s 616us/step - loss: 0.7944 - acc: 0.5000\n",
      "Epoch 10/100\n",
      "2/2 [==============================] - 0s 682us/step - loss: 0.7940 - acc: 0.5000\n",
      "Epoch 11/100\n",
      "2/2 [==============================] - 0s 674us/step - loss: 0.7936 - acc: 0.5000\n",
      "Epoch 12/100\n",
      "2/2 [==============================] - 0s 751us/step - loss: 0.7931 - acc: 1.0000\n",
      "Epoch 13/100\n",
      "2/2 [==============================] - 0s 674us/step - loss: 0.7927 - acc: 1.0000\n",
      "Epoch 14/100\n",
      "2/2 [==============================] - 0s 666us/step - loss: 0.7923 - acc: 1.0000\n",
      "Epoch 15/100\n",
      "2/2 [==============================] - 0s 602us/step - loss: 0.7918 - acc: 1.0000\n",
      "Epoch 16/100\n",
      "2/2 [==============================] - 0s 608us/step - loss: 0.7914 - acc: 1.0000\n",
      "Epoch 17/100\n",
      "2/2 [==============================] - 0s 646us/step - loss: 0.7909 - acc: 1.0000\n",
      "Epoch 18/100\n",
      "2/2 [==============================] - 0s 609us/step - loss: 0.7905 - acc: 1.0000\n",
      "Epoch 19/100\n",
      "2/2 [==============================] - 0s 569us/step - loss: 0.7900 - acc: 1.0000\n",
      "Epoch 20/100\n",
      "2/2 [==============================] - 0s 637us/step - loss: 0.7896 - acc: 1.0000\n",
      "Epoch 21/100\n",
      "2/2 [==============================] - 0s 664us/step - loss: 0.7891 - acc: 1.0000\n",
      "Epoch 22/100\n",
      "2/2 [==============================] - 0s 578us/step - loss: 0.7886 - acc: 1.0000\n",
      "Epoch 23/100\n",
      "2/2 [==============================] - 0s 613us/step - loss: 0.7882 - acc: 1.0000\n",
      "Epoch 24/100\n",
      "2/2 [==============================] - 0s 655us/step - loss: 0.7877 - acc: 1.0000\n",
      "Epoch 25/100\n",
      "2/2 [==============================] - 0s 612us/step - loss: 0.7872 - acc: 1.0000\n",
      "Epoch 26/100\n",
      "2/2 [==============================] - 0s 608us/step - loss: 0.7868 - acc: 1.0000\n",
      "Epoch 27/100\n",
      "2/2 [==============================] - 0s 556us/step - loss: 0.7863 - acc: 1.0000\n",
      "Epoch 28/100\n",
      "2/2 [==============================] - 0s 615us/step - loss: 0.7858 - acc: 1.0000\n",
      "Epoch 29/100\n",
      "2/2 [==============================] - 0s 638us/step - loss: 0.7853 - acc: 1.0000\n",
      "Epoch 30/100\n",
      "2/2 [==============================] - 0s 632us/step - loss: 0.7848 - acc: 1.0000\n",
      "Epoch 31/100\n",
      "2/2 [==============================] - 0s 589us/step - loss: 0.7843 - acc: 1.0000\n",
      "Epoch 32/100\n",
      "2/2 [==============================] - 0s 533us/step - loss: 0.7838 - acc: 1.0000\n",
      "Epoch 33/100\n",
      "2/2 [==============================] - 0s 636us/step - loss: 0.7833 - acc: 1.0000\n",
      "Epoch 34/100\n",
      "2/2 [==============================] - 0s 633us/step - loss: 0.7828 - acc: 1.0000\n",
      "Epoch 35/100\n",
      "2/2 [==============================] - 0s 653us/step - loss: 0.7823 - acc: 1.0000\n",
      "Epoch 36/100\n",
      "2/2 [==============================] - 0s 573us/step - loss: 0.7818 - acc: 1.0000\n",
      "Epoch 37/100\n",
      "2/2 [==============================] - 0s 638us/step - loss: 0.7812 - acc: 1.0000\n",
      "Epoch 38/100\n",
      "2/2 [==============================] - 0s 619us/step - loss: 0.7807 - acc: 1.0000\n",
      "Epoch 39/100\n",
      "2/2 [==============================] - 0s 632us/step - loss: 0.7802 - acc: 1.0000\n",
      "Epoch 40/100\n",
      "2/2 [==============================] - 0s 646us/step - loss: 0.7797 - acc: 1.0000\n",
      "Epoch 41/100\n",
      "2/2 [==============================] - 0s 606us/step - loss: 0.7792 - acc: 1.0000\n",
      "Epoch 42/100\n",
      "2/2 [==============================] - 0s 647us/step - loss: 0.7786 - acc: 1.0000\n",
      "Epoch 43/100\n",
      "2/2 [==============================] - 0s 631us/step - loss: 0.7781 - acc: 1.0000\n",
      "Epoch 44/100\n",
      "2/2 [==============================] - 0s 614us/step - loss: 0.7775 - acc: 1.0000\n",
      "Epoch 45/100\n",
      "2/2 [==============================] - 0s 618us/step - loss: 0.7770 - acc: 1.0000\n",
      "Epoch 46/100\n",
      "2/2 [==============================] - 0s 603us/step - loss: 0.7764 - acc: 1.0000\n",
      "Epoch 47/100\n",
      "2/2 [==============================] - 0s 625us/step - loss: 0.7759 - acc: 1.0000\n",
      "Epoch 48/100\n",
      "2/2 [==============================] - 0s 719us/step - loss: 0.7753 - acc: 1.0000\n",
      "Epoch 49/100\n",
      "2/2 [==============================] - 0s 665us/step - loss: 0.7747 - acc: 1.0000\n",
      "Epoch 50/100\n",
      "2/2 [==============================] - 0s 625us/step - loss: 0.7742 - acc: 1.0000\n",
      "Epoch 51/100\n",
      "2/2 [==============================] - 0s 635us/step - loss: 0.7736 - acc: 1.0000\n",
      "Epoch 52/100\n",
      "2/2 [==============================] - 0s 824us/step - loss: 0.7730 - acc: 1.0000\n",
      "Epoch 53/100\n",
      "2/2 [==============================] - 0s 649us/step - loss: 0.7724 - acc: 1.0000\n",
      "Epoch 54/100\n",
      "2/2 [==============================] - 0s 629us/step - loss: 0.7719 - acc: 1.0000\n",
      "Epoch 55/100\n",
      "2/2 [==============================] - 0s 638us/step - loss: 0.7713 - acc: 1.0000\n",
      "Epoch 56/100\n",
      "2/2 [==============================] - 0s 663us/step - loss: 0.7707 - acc: 1.0000\n",
      "Epoch 57/100\n",
      "2/2 [==============================] - 0s 618us/step - loss: 0.7701 - acc: 1.0000\n",
      "Epoch 58/100\n",
      "2/2 [==============================] - 0s 617us/step - loss: 0.7694 - acc: 1.0000\n",
      "Epoch 59/100\n",
      "2/2 [==============================] - 0s 625us/step - loss: 0.7688 - acc: 1.0000\n",
      "Epoch 60/100\n",
      "2/2 [==============================] - 0s 723us/step - loss: 0.7682 - acc: 1.0000\n",
      "Epoch 61/100\n",
      "2/2 [==============================] - 0s 591us/step - loss: 0.7676 - acc: 1.0000\n",
      "Epoch 62/100\n",
      "2/2 [==============================] - 0s 623us/step - loss: 0.7670 - acc: 1.0000\n",
      "Epoch 63/100\n",
      "2/2 [==============================] - 0s 563us/step - loss: 0.7663 - acc: 1.0000\n",
      "Epoch 64/100\n",
      "2/2 [==============================] - 0s 625us/step - loss: 0.7657 - acc: 1.0000\n",
      "Epoch 65/100\n",
      "2/2 [==============================] - 0s 603us/step - loss: 0.7651 - acc: 1.0000\n",
      "Epoch 66/100\n",
      "2/2 [==============================] - 0s 586us/step - loss: 0.7644 - acc: 1.0000\n",
      "Epoch 67/100\n",
      "2/2 [==============================] - 0s 629us/step - loss: 0.7638 - acc: 1.0000\n",
      "Epoch 68/100\n",
      "2/2 [==============================] - 0s 581us/step - loss: 0.7631 - acc: 1.0000\n",
      "Epoch 69/100\n",
      "2/2 [==============================] - 0s 601us/step - loss: 0.7625 - acc: 1.0000\n",
      "Epoch 70/100\n",
      "2/2 [==============================] - 0s 666us/step - loss: 0.7618 - acc: 1.0000\n",
      "Epoch 71/100\n",
      "2/2 [==============================] - 0s 528us/step - loss: 0.7611 - acc: 1.0000\n",
      "Epoch 72/100\n",
      "2/2 [==============================] - 0s 638us/step - loss: 0.7605 - acc: 1.0000\n",
      "Epoch 73/100\n",
      "2/2 [==============================] - 0s 617us/step - loss: 0.7598 - acc: 1.0000\n",
      "Epoch 74/100\n",
      "2/2 [==============================] - 0s 632us/step - loss: 0.7591 - acc: 1.0000\n",
      "Epoch 75/100\n",
      "2/2 [==============================] - 0s 678us/step - loss: 0.7584 - acc: 1.0000\n",
      "Epoch 76/100\n",
      "2/2 [==============================] - 0s 550us/step - loss: 0.7577 - acc: 1.0000\n",
      "Epoch 77/100\n",
      "2/2 [==============================] - 0s 567us/step - loss: 0.7570 - acc: 1.0000\n",
      "Epoch 78/100\n",
      "2/2 [==============================] - 0s 680us/step - loss: 0.7563 - acc: 1.0000\n",
      "Epoch 79/100\n",
      "2/2 [==============================] - 0s 599us/step - loss: 0.7556 - acc: 1.0000\n",
      "Epoch 80/100\n",
      "2/2 [==============================] - 0s 582us/step - loss: 0.7549 - acc: 1.0000\n",
      "Epoch 81/100\n",
      "2/2 [==============================] - 0s 563us/step - loss: 0.7542 - acc: 1.0000\n",
      "Epoch 82/100\n",
      "2/2 [==============================] - 0s 644us/step - loss: 0.7535 - acc: 1.0000\n",
      "Epoch 83/100\n",
      "2/2 [==============================] - 0s 623us/step - loss: 0.7528 - acc: 1.0000\n",
      "Epoch 84/100\n",
      "2/2 [==============================] - 0s 575us/step - loss: 0.7521 - acc: 1.0000\n",
      "Epoch 85/100\n",
      "2/2 [==============================] - 0s 628us/step - loss: 0.7513 - acc: 1.0000\n",
      "Epoch 86/100\n",
      "2/2 [==============================] - 0s 599us/step - loss: 0.7506 - acc: 1.0000\n",
      "Epoch 87/100\n",
      "2/2 [==============================] - 0s 607us/step - loss: 0.7498 - acc: 1.0000\n"
     ]
    },
    {
     "name": "stdout",
     "output_type": "stream",
     "text": [
      "Epoch 88/100\n",
      "2/2 [==============================] - 0s 541us/step - loss: 0.7491 - acc: 1.0000\n",
      "Epoch 89/100\n",
      "2/2 [==============================] - 0s 668us/step - loss: 0.7483 - acc: 1.0000\n",
      "Epoch 90/100\n",
      "2/2 [==============================] - 0s 672us/step - loss: 0.7476 - acc: 1.0000\n",
      "Epoch 91/100\n",
      "2/2 [==============================] - 0s 653us/step - loss: 0.7468 - acc: 1.0000\n",
      "Epoch 92/100\n",
      "2/2 [==============================] - 0s 556us/step - loss: 0.7461 - acc: 1.0000\n",
      "Epoch 93/100\n",
      "2/2 [==============================] - 0s 566us/step - loss: 0.7453 - acc: 1.0000\n",
      "Epoch 94/100\n",
      "2/2 [==============================] - 0s 573us/step - loss: 0.7446 - acc: 1.0000\n",
      "Epoch 95/100\n",
      "2/2 [==============================] - 0s 580us/step - loss: 0.7437 - acc: 1.0000\n",
      "Epoch 96/100\n",
      "2/2 [==============================] - 0s 717us/step - loss: 0.7430 - acc: 1.0000\n",
      "Epoch 97/100\n",
      "2/2 [==============================] - 0s 700us/step - loss: 0.7422 - acc: 1.0000\n",
      "Epoch 98/100\n",
      "2/2 [==============================] - 0s 751us/step - loss: 0.7414 - acc: 1.0000\n",
      "Epoch 99/100\n",
      "2/2 [==============================] - 0s 592us/step - loss: 0.7406 - acc: 1.0000\n",
      "Epoch 100/100\n",
      "2/2 [==============================] - 0s 552us/step - loss: 0.7398 - acc: 1.0000\n"
     ]
    },
    {
     "data": {
      "text/plain": [
       "<keras.callbacks.History at 0xb2af16f60>"
      ]
     },
     "execution_count": 17,
     "metadata": {},
     "output_type": "execute_result"
    }
   ],
   "source": [
    "model1.fit(a,b,epochs = 100)"
   ]
  },
  {
   "cell_type": "code",
   "execution_count": 14,
   "metadata": {},
   "outputs": [
    {
     "ename": "ValueError",
     "evalue": "Error when checking input: expected flatten_4_input to have shape (1,) but got array with shape (2,)",
     "output_type": "error",
     "traceback": [
      "\u001b[0;31m---------------------------------------------------------------------------\u001b[0m",
      "\u001b[0;31mValueError\u001b[0m                                Traceback (most recent call last)",
      "\u001b[0;32m<ipython-input-14-896cae5463f5>\u001b[0m in \u001b[0;36m<module>\u001b[0;34m\u001b[0m\n\u001b[1;32m      5\u001b[0m \u001b[0mmodel1\u001b[0m\u001b[0;34m.\u001b[0m\u001b[0madd\u001b[0m\u001b[0;34m(\u001b[0m\u001b[0mDense\u001b[0m\u001b[0;34m(\u001b[0m\u001b[0;36m1\u001b[0m\u001b[0;34m,\u001b[0m \u001b[0mactivation\u001b[0m\u001b[0;34m=\u001b[0m\u001b[0;34m'relu'\u001b[0m\u001b[0;34m)\u001b[0m\u001b[0;34m)\u001b[0m\u001b[0;34m\u001b[0m\u001b[0;34m\u001b[0m\u001b[0m\n\u001b[1;32m      6\u001b[0m \u001b[0mmodel1\u001b[0m\u001b[0;34m.\u001b[0m\u001b[0mcompile\u001b[0m\u001b[0;34m(\u001b[0m\u001b[0mloss\u001b[0m\u001b[0;34m=\u001b[0m\u001b[0;34m'poisson'\u001b[0m\u001b[0;34m,\u001b[0m \u001b[0moptimizer\u001b[0m\u001b[0;34m=\u001b[0m\u001b[0;34m'adam'\u001b[0m\u001b[0;34m,\u001b[0m \u001b[0mmetrics\u001b[0m\u001b[0;34m=\u001b[0m\u001b[0;34m[\u001b[0m\u001b[0;34m'accuracy'\u001b[0m\u001b[0;34m]\u001b[0m\u001b[0;34m)\u001b[0m\u001b[0;34m\u001b[0m\u001b[0;34m\u001b[0m\u001b[0m\n\u001b[0;32m----> 7\u001b[0;31m \u001b[0mmodel\u001b[0m\u001b[0;34m.\u001b[0m\u001b[0mfit\u001b[0m\u001b[0;34m(\u001b[0m\u001b[0ma\u001b[0m\u001b[0;34m,\u001b[0m \u001b[0mb\u001b[0m\u001b[0;34m,\u001b[0m \u001b[0mepochs\u001b[0m\u001b[0;34m=\u001b[0m\u001b[0;36m10\u001b[0m\u001b[0;34m)\u001b[0m\u001b[0;34m\u001b[0m\u001b[0;34m\u001b[0m\u001b[0m\n\u001b[0m",
      "\u001b[0;32m~/anaconda3/lib/python3.7/site-packages/tensorflow/python/keras/engine/training.py\u001b[0m in \u001b[0;36mfit\u001b[0;34m(self, x, y, batch_size, epochs, verbose, callbacks, validation_split, validation_data, shuffle, class_weight, sample_weight, initial_epoch, steps_per_epoch, validation_steps, max_queue_size, workers, use_multiprocessing, **kwargs)\u001b[0m\n\u001b[1;32m    774\u001b[0m         \u001b[0msteps\u001b[0m\u001b[0;34m=\u001b[0m\u001b[0msteps_per_epoch\u001b[0m\u001b[0;34m,\u001b[0m\u001b[0;34m\u001b[0m\u001b[0;34m\u001b[0m\u001b[0m\n\u001b[1;32m    775\u001b[0m         \u001b[0mvalidation_split\u001b[0m\u001b[0;34m=\u001b[0m\u001b[0mvalidation_split\u001b[0m\u001b[0;34m,\u001b[0m\u001b[0;34m\u001b[0m\u001b[0;34m\u001b[0m\u001b[0m\n\u001b[0;32m--> 776\u001b[0;31m         shuffle=shuffle)\n\u001b[0m\u001b[1;32m    777\u001b[0m \u001b[0;34m\u001b[0m\u001b[0m\n\u001b[1;32m    778\u001b[0m     \u001b[0;31m# Prepare validation data.\u001b[0m\u001b[0;34m\u001b[0m\u001b[0;34m\u001b[0m\u001b[0;34m\u001b[0m\u001b[0m\n",
      "\u001b[0;32m~/anaconda3/lib/python3.7/site-packages/tensorflow/python/keras/engine/training.py\u001b[0m in \u001b[0;36m_standardize_user_data\u001b[0;34m(self, x, y, sample_weight, class_weight, batch_size, check_steps, steps_name, steps, validation_split, shuffle)\u001b[0m\n\u001b[1;32m   2380\u001b[0m         \u001b[0mfeed_input_shapes\u001b[0m\u001b[0;34m,\u001b[0m\u001b[0;34m\u001b[0m\u001b[0;34m\u001b[0m\u001b[0m\n\u001b[1;32m   2381\u001b[0m         \u001b[0mcheck_batch_axis\u001b[0m\u001b[0;34m=\u001b[0m\u001b[0;32mFalse\u001b[0m\u001b[0;34m,\u001b[0m  \u001b[0;31m# Don't enforce the batch size.\u001b[0m\u001b[0;34m\u001b[0m\u001b[0;34m\u001b[0m\u001b[0m\n\u001b[0;32m-> 2382\u001b[0;31m         exception_prefix='input')\n\u001b[0m\u001b[1;32m   2383\u001b[0m \u001b[0;34m\u001b[0m\u001b[0m\n\u001b[1;32m   2384\u001b[0m     \u001b[0;32mif\u001b[0m \u001b[0my\u001b[0m \u001b[0;32mis\u001b[0m \u001b[0;32mnot\u001b[0m \u001b[0;32mNone\u001b[0m\u001b[0;34m:\u001b[0m\u001b[0;34m\u001b[0m\u001b[0;34m\u001b[0m\u001b[0m\n",
      "\u001b[0;32m~/anaconda3/lib/python3.7/site-packages/tensorflow/python/keras/engine/training_utils.py\u001b[0m in \u001b[0;36mstandardize_input_data\u001b[0;34m(data, names, shapes, check_batch_axis, exception_prefix)\u001b[0m\n\u001b[1;32m    360\u001b[0m                 \u001b[0;34m'Error when checking '\u001b[0m \u001b[0;34m+\u001b[0m \u001b[0mexception_prefix\u001b[0m \u001b[0;34m+\u001b[0m \u001b[0;34m': expected '\u001b[0m \u001b[0;34m+\u001b[0m\u001b[0;34m\u001b[0m\u001b[0;34m\u001b[0m\u001b[0m\n\u001b[1;32m    361\u001b[0m                 \u001b[0mnames\u001b[0m\u001b[0;34m[\u001b[0m\u001b[0mi\u001b[0m\u001b[0;34m]\u001b[0m \u001b[0;34m+\u001b[0m \u001b[0;34m' to have shape '\u001b[0m \u001b[0;34m+\u001b[0m \u001b[0mstr\u001b[0m\u001b[0;34m(\u001b[0m\u001b[0mshape\u001b[0m\u001b[0;34m)\u001b[0m \u001b[0;34m+\u001b[0m\u001b[0;34m\u001b[0m\u001b[0;34m\u001b[0m\u001b[0m\n\u001b[0;32m--> 362\u001b[0;31m                 ' but got array with shape ' + str(data_shape))\n\u001b[0m\u001b[1;32m    363\u001b[0m   \u001b[0;32mreturn\u001b[0m \u001b[0mdata\u001b[0m\u001b[0;34m\u001b[0m\u001b[0;34m\u001b[0m\u001b[0m\n\u001b[1;32m    364\u001b[0m \u001b[0;34m\u001b[0m\u001b[0m\n",
      "\u001b[0;31mValueError\u001b[0m: Error when checking input: expected flatten_4_input to have shape (1,) but got array with shape (2,)"
     ]
    }
   ],
   "source": [
    "model1 = None\n",
    "model1 = Sequential()\n",
    "model1.add(Dense(26, input_dim=2, activation='relu'))\n",
    "\n",
    "model1.add(Dense(1, activation='relu'))\n",
    "model1.compile(loss='poisson', optimizer='adam', metrics=['accuracy'])\n",
    "model.fit(a, b, epochs=10)"
   ]
  },
  {
   "cell_type": "code",
   "execution_count": 16,
   "metadata": {},
   "outputs": [
    {
     "data": {
      "text/plain": [
       "array([0, 1])"
      ]
     },
     "execution_count": 16,
     "metadata": {},
     "output_type": "execute_result"
    }
   ],
   "source": [
    "a[0]"
   ]
  },
  {
   "cell_type": "code",
   "execution_count": null,
   "metadata": {},
   "outputs": [],
   "source": []
  }
 ],
 "metadata": {
  "kernelspec": {
   "display_name": "Python 3",
   "language": "python",
   "name": "python3"
  },
  "language_info": {
   "codemirror_mode": {
    "name": "ipython",
    "version": 3
   },
   "file_extension": ".py",
   "mimetype": "text/x-python",
   "name": "python",
   "nbconvert_exporter": "python",
   "pygments_lexer": "ipython3",
   "version": "3.7.1"
  },
  "toc": {
   "base_numbering": 1,
   "nav_menu": {},
   "number_sections": true,
   "sideBar": true,
   "skip_h1_title": false,
   "title_cell": "Table of Contents",
   "title_sidebar": "Contents",
   "toc_cell": false,
   "toc_position": {},
   "toc_section_display": true,
   "toc_window_display": false
  }
 },
 "nbformat": 4,
 "nbformat_minor": 2
}
