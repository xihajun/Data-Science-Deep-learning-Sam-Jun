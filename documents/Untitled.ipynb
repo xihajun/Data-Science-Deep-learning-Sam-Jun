{
 "cells": [
  {
   "cell_type": "code",
   "execution_count": 1,
   "metadata": {},
   "outputs": [],
   "source": [
    "import tensorflow as tf\n",
    "import pandas as pd\n",
    "import numpy as np"
   ]
  },
  {
   "cell_type": "code",
   "execution_count": 126,
   "metadata": {},
   "outputs": [],
   "source": [
    "# first we need to creat a training dataset\n",
    "def caeserde(plaintext, key=3):\n",
    "    L2I = dict(zip(\"ABCDEFGHIJKLMNOPQRSTUVWXYZ\", range(26)))\n",
    "    I2L = dict(zip(range(26), \"ABCDEFGHIJKLMNOPQRSTUVWXYZ\"))\n",
    "    ciphertext = \"\"\n",
    "    ciphernum = []\n",
    "    plainnum = []\n",
    "    \n",
    "    for c in plaintext.upper():\n",
    "        if c.isalpha():\n",
    "            # L2I[c]+key represents the order eg A=1 B=2\n",
    "            ciphertext += I2L[(L2I[c] + key) % 26]\n",
    "            ciphernum.append((L2I[c] + key) % 26)\n",
    "            plainnum.append((L2I[c]) % 26)\n",
    "        else:\n",
    "            ciphertext += c\n",
    "            ciphernum.append('-1')\n",
    "    return (ciphertext, ciphernum, plainnum)"
   ]
  },
  {
   "cell_type": "code",
   "execution_count": 132,
   "metadata": {},
   "outputs": [],
   "source": [
    "text, train, label = caeserde('ABCDEFGHIJKLMNOPQRSTUVWXYZ')"
   ]
  },
  {
   "cell_type": "code",
   "execution_count": 204,
   "metadata": {},
   "outputs": [],
   "source": [
    "batch_size = 26\n",
    "n_epochs = 50\n",
    "learning_rate = 0.01\n",
    "X = tf.placeholder(tf.float32, name=\"train\")\n",
    "Y = tf.placeholder(tf.float32, name=\"prediction\")\n",
    "\n"
   ]
  },
  {
   "cell_type": "code",
   "execution_count": 205,
   "metadata": {},
   "outputs": [],
   "source": [
    "w = tf.Variable(tf.random_normal(shape = [1,26], stddev = 0.01), name =\"weights\")\n",
    "b = tf.Variable(tf.zeros([1,26], name = \"bias\"))"
   ]
  },
  {
   "cell_type": "code",
   "execution_count": 206,
   "metadata": {},
   "outputs": [],
   "source": [
    "logits = tf.matmul(X,w)+b"
   ]
  },
  {
   "cell_type": "code",
   "execution_count": 207,
   "metadata": {},
   "outputs": [],
   "source": [
    "entropy = tf.nn.softmax_cross_entropy_with_logits(labels = Y, logits= logits, name=\"loss\")\n",
    "loss = tf.reduce_mean(entropy)"
   ]
  },
  {
   "cell_type": "code",
   "execution_count": 208,
   "metadata": {},
   "outputs": [],
   "source": [
    "learning_rate = 0.01\n",
    "\n",
    "optimizer = tf.train.GradientDescentOptimizer(learning_rate).minimize(loss)"
   ]
  },
  {
   "cell_type": "code",
   "execution_count": 209,
   "metadata": {},
   "outputs": [],
   "source": [
    "def listtransfer(initial_list):\n",
    "    labels = []\n",
    "    for i in range(26):\n",
    "        if initial_list==i:\n",
    "            labels.append(1)\n",
    "        else:\n",
    "            labels.append(0)\n",
    "    return(labels)\n",
    "labels = []\n",
    "for i in range(len(label)):\n",
    "    labels.append(listtransfer(label[i]))"
   ]
  },
  {
   "cell_type": "code",
   "execution_count": 262,
   "metadata": {},
   "outputs": [
    {
     "data": {
      "text/plain": [
       "array([[1, 0, 0, 0, 0, 0, 0, 0, 0, 0, 0, 0, 0, 0, 0, 0, 0, 0, 0, 0, 0, 0,\n",
       "        0, 0, 0, 0],\n",
       "       [0, 1, 0, 0, 0, 0, 0, 0, 0, 0, 0, 0, 0, 0, 0, 0, 0, 0, 0, 0, 0, 0,\n",
       "        0, 0, 0, 0],\n",
       "       [0, 0, 1, 0, 0, 0, 0, 0, 0, 0, 0, 0, 0, 0, 0, 0, 0, 0, 0, 0, 0, 0,\n",
       "        0, 0, 0, 0],\n",
       "       [0, 0, 0, 1, 0, 0, 0, 0, 0, 0, 0, 0, 0, 0, 0, 0, 0, 0, 0, 0, 0, 0,\n",
       "        0, 0, 0, 0],\n",
       "       [0, 0, 0, 0, 1, 0, 0, 0, 0, 0, 0, 0, 0, 0, 0, 0, 0, 0, 0, 0, 0, 0,\n",
       "        0, 0, 0, 0],\n",
       "       [0, 0, 0, 0, 0, 1, 0, 0, 0, 0, 0, 0, 0, 0, 0, 0, 0, 0, 0, 0, 0, 0,\n",
       "        0, 0, 0, 0],\n",
       "       [0, 0, 0, 0, 0, 0, 1, 0, 0, 0, 0, 0, 0, 0, 0, 0, 0, 0, 0, 0, 0, 0,\n",
       "        0, 0, 0, 0],\n",
       "       [0, 0, 0, 0, 0, 0, 0, 1, 0, 0, 0, 0, 0, 0, 0, 0, 0, 0, 0, 0, 0, 0,\n",
       "        0, 0, 0, 0],\n",
       "       [0, 0, 0, 0, 0, 0, 0, 0, 1, 0, 0, 0, 0, 0, 0, 0, 0, 0, 0, 0, 0, 0,\n",
       "        0, 0, 0, 0],\n",
       "       [0, 0, 0, 0, 0, 0, 0, 0, 0, 1, 0, 0, 0, 0, 0, 0, 0, 0, 0, 0, 0, 0,\n",
       "        0, 0, 0, 0],\n",
       "       [0, 0, 0, 0, 0, 0, 0, 0, 0, 0, 1, 0, 0, 0, 0, 0, 0, 0, 0, 0, 0, 0,\n",
       "        0, 0, 0, 0],\n",
       "       [0, 0, 0, 0, 0, 0, 0, 0, 0, 0, 0, 1, 0, 0, 0, 0, 0, 0, 0, 0, 0, 0,\n",
       "        0, 0, 0, 0],\n",
       "       [0, 0, 0, 0, 0, 0, 0, 0, 0, 0, 0, 0, 1, 0, 0, 0, 0, 0, 0, 0, 0, 0,\n",
       "        0, 0, 0, 0],\n",
       "       [0, 0, 0, 0, 0, 0, 0, 0, 0, 0, 0, 0, 0, 1, 0, 0, 0, 0, 0, 0, 0, 0,\n",
       "        0, 0, 0, 0],\n",
       "       [0, 0, 0, 0, 0, 0, 0, 0, 0, 0, 0, 0, 0, 0, 1, 0, 0, 0, 0, 0, 0, 0,\n",
       "        0, 0, 0, 0],\n",
       "       [0, 0, 0, 0, 0, 0, 0, 0, 0, 0, 0, 0, 0, 0, 0, 1, 0, 0, 0, 0, 0, 0,\n",
       "        0, 0, 0, 0],\n",
       "       [0, 0, 0, 0, 0, 0, 0, 0, 0, 0, 0, 0, 0, 0, 0, 0, 1, 0, 0, 0, 0, 0,\n",
       "        0, 0, 0, 0],\n",
       "       [0, 0, 0, 0, 0, 0, 0, 0, 0, 0, 0, 0, 0, 0, 0, 0, 0, 1, 0, 0, 0, 0,\n",
       "        0, 0, 0, 0],\n",
       "       [0, 0, 0, 0, 0, 0, 0, 0, 0, 0, 0, 0, 0, 0, 0, 0, 0, 0, 1, 0, 0, 0,\n",
       "        0, 0, 0, 0],\n",
       "       [0, 0, 0, 0, 0, 0, 0, 0, 0, 0, 0, 0, 0, 0, 0, 0, 0, 0, 0, 1, 0, 0,\n",
       "        0, 0, 0, 0],\n",
       "       [0, 0, 0, 0, 0, 0, 0, 0, 0, 0, 0, 0, 0, 0, 0, 0, 0, 0, 0, 0, 1, 0,\n",
       "        0, 0, 0, 0],\n",
       "       [0, 0, 0, 0, 0, 0, 0, 0, 0, 0, 0, 0, 0, 0, 0, 0, 0, 0, 0, 0, 0, 1,\n",
       "        0, 0, 0, 0],\n",
       "       [0, 0, 0, 0, 0, 0, 0, 0, 0, 0, 0, 0, 0, 0, 0, 0, 0, 0, 0, 0, 0, 0,\n",
       "        1, 0, 0, 0],\n",
       "       [0, 0, 0, 0, 0, 0, 0, 0, 0, 0, 0, 0, 0, 0, 0, 0, 0, 0, 0, 0, 0, 0,\n",
       "        0, 1, 0, 0],\n",
       "       [0, 0, 0, 0, 0, 0, 0, 0, 0, 0, 0, 0, 0, 0, 0, 0, 0, 0, 0, 0, 0, 0,\n",
       "        0, 0, 1, 0],\n",
       "       [0, 0, 0, 0, 0, 0, 0, 0, 0, 0, 0, 0, 0, 0, 0, 0, 0, 0, 0, 0, 0, 0,\n",
       "        0, 0, 0, 1]])"
      ]
     },
     "execution_count": 262,
     "metadata": {},
     "output_type": "execute_result"
    }
   ],
   "source": [
    "labels"
   ]
  },
  {
   "cell_type": "code",
   "execution_count": 212,
   "metadata": {
    "collapsed": true
   },
   "outputs": [
    {
     "ename": "InvalidArgumentError",
     "evalue": "Expected begin[0] == 0 (got -1) and size[0] == 0 (got 1) when input.dim_size(0) == 0\n\t [[node loss_6/Slice_1 (defined at <ipython-input-207-06ecb52feb87>:1) ]]\n\nCaused by op 'loss_6/Slice_1', defined at:\n  File \"/Users/xihajun/anaconda3/lib/python3.7/runpy.py\", line 193, in _run_module_as_main\n    \"__main__\", mod_spec)\n  File \"/Users/xihajun/anaconda3/lib/python3.7/runpy.py\", line 85, in _run_code\n    exec(code, run_globals)\n  File \"/Users/xihajun/anaconda3/lib/python3.7/site-packages/ipykernel_launcher.py\", line 16, in <module>\n    app.launch_new_instance()\n  File \"/Users/xihajun/anaconda3/lib/python3.7/site-packages/traitlets/config/application.py\", line 658, in launch_instance\n    app.start()\n  File \"/Users/xihajun/anaconda3/lib/python3.7/site-packages/ipykernel/kernelapp.py\", line 505, in start\n    self.io_loop.start()\n  File \"/Users/xihajun/anaconda3/lib/python3.7/site-packages/tornado/platform/asyncio.py\", line 132, in start\n    self.asyncio_loop.run_forever()\n  File \"/Users/xihajun/anaconda3/lib/python3.7/asyncio/base_events.py\", line 528, in run_forever\n    self._run_once()\n  File \"/Users/xihajun/anaconda3/lib/python3.7/asyncio/base_events.py\", line 1764, in _run_once\n    handle._run()\n  File \"/Users/xihajun/anaconda3/lib/python3.7/asyncio/events.py\", line 88, in _run\n    self._context.run(self._callback, *self._args)\n  File \"/Users/xihajun/anaconda3/lib/python3.7/site-packages/tornado/ioloop.py\", line 758, in _run_callback\n    ret = callback()\n  File \"/Users/xihajun/anaconda3/lib/python3.7/site-packages/tornado/stack_context.py\", line 300, in null_wrapper\n    return fn(*args, **kwargs)\n  File \"/Users/xihajun/anaconda3/lib/python3.7/site-packages/tornado/gen.py\", line 1233, in inner\n    self.run()\n  File \"/Users/xihajun/anaconda3/lib/python3.7/site-packages/tornado/gen.py\", line 1147, in run\n    yielded = self.gen.send(value)\n  File \"/Users/xihajun/anaconda3/lib/python3.7/site-packages/ipykernel/kernelbase.py\", line 357, in process_one\n    yield gen.maybe_future(dispatch(*args))\n  File \"/Users/xihajun/anaconda3/lib/python3.7/site-packages/tornado/gen.py\", line 326, in wrapper\n    yielded = next(result)\n  File \"/Users/xihajun/anaconda3/lib/python3.7/site-packages/ipykernel/kernelbase.py\", line 267, in dispatch_shell\n    yield gen.maybe_future(handler(stream, idents, msg))\n  File \"/Users/xihajun/anaconda3/lib/python3.7/site-packages/tornado/gen.py\", line 326, in wrapper\n    yielded = next(result)\n  File \"/Users/xihajun/anaconda3/lib/python3.7/site-packages/ipykernel/kernelbase.py\", line 534, in execute_request\n    user_expressions, allow_stdin,\n  File \"/Users/xihajun/anaconda3/lib/python3.7/site-packages/tornado/gen.py\", line 326, in wrapper\n    yielded = next(result)\n  File \"/Users/xihajun/anaconda3/lib/python3.7/site-packages/ipykernel/ipkernel.py\", line 294, in do_execute\n    res = shell.run_cell(code, store_history=store_history, silent=silent)\n  File \"/Users/xihajun/anaconda3/lib/python3.7/site-packages/ipykernel/zmqshell.py\", line 536, in run_cell\n    return super(ZMQInteractiveShell, self).run_cell(*args, **kwargs)\n  File \"/Users/xihajun/anaconda3/lib/python3.7/site-packages/IPython/core/interactiveshell.py\", line 2819, in run_cell\n    raw_cell, store_history, silent, shell_futures)\n  File \"/Users/xihajun/anaconda3/lib/python3.7/site-packages/IPython/core/interactiveshell.py\", line 2845, in _run_cell\n    return runner(coro)\n  File \"/Users/xihajun/anaconda3/lib/python3.7/site-packages/IPython/core/async_helpers.py\", line 67, in _pseudo_sync_runner\n    coro.send(None)\n  File \"/Users/xihajun/anaconda3/lib/python3.7/site-packages/IPython/core/interactiveshell.py\", line 3020, in run_cell_async\n    interactivity=interactivity, compiler=compiler, result=result)\n  File \"/Users/xihajun/anaconda3/lib/python3.7/site-packages/IPython/core/interactiveshell.py\", line 3185, in run_ast_nodes\n    if (yield from self.run_code(code, result)):\n  File \"/Users/xihajun/anaconda3/lib/python3.7/site-packages/IPython/core/interactiveshell.py\", line 3267, in run_code\n    exec(code_obj, self.user_global_ns, self.user_ns)\n  File \"<ipython-input-207-06ecb52feb87>\", line 1, in <module>\n    entropy = tf.nn.softmax_cross_entropy_with_logits(labels = Y, logits= logits, name=\"loss\")\n  File \"/Users/xihajun/anaconda3/lib/python3.7/site-packages/tensorflow/python/util/deprecation.py\", line 324, in new_func\n    return func(*args, **kwargs)\n  File \"/Users/xihajun/anaconda3/lib/python3.7/site-packages/tensorflow/python/ops/nn_ops.py\", line 2561, in softmax_cross_entropy_with_logits\n    labels=labels, logits=logits, axis=dim, name=name)\n  File \"/Users/xihajun/anaconda3/lib/python3.7/site-packages/tensorflow/python/ops/nn_ops.py\", line 2370, in softmax_cross_entropy_with_logits_v2\n    labels=labels, logits=logits, axis=axis, name=name)\n  File \"/Users/xihajun/anaconda3/lib/python3.7/site-packages/tensorflow/python/util/deprecation.py\", line 507, in new_func\n    return func(*args, **kwargs)\n  File \"/Users/xihajun/anaconda3/lib/python3.7/site-packages/tensorflow/python/ops/nn_ops.py\", line 2465, in softmax_cross_entropy_with_logits_v2_helper\n    labels = _flatten_outer_dims(labels)\n  File \"/Users/xihajun/anaconda3/lib/python3.7/site-packages/tensorflow/python/ops/nn_ops.py\", line 2095, in _flatten_outer_dims\n    array_ops.shape(logits), [math_ops.subtract(rank, 1)], [1])\n  File \"/Users/xihajun/anaconda3/lib/python3.7/site-packages/tensorflow/python/ops/array_ops.py\", line 707, in slice\n    return gen_array_ops._slice(input_, begin, size, name=name)\n  File \"/Users/xihajun/anaconda3/lib/python3.7/site-packages/tensorflow/python/ops/gen_array_ops.py\", line 8236, in _slice\n    \"Slice\", input=input, begin=begin, size=size, name=name)\n  File \"/Users/xihajun/anaconda3/lib/python3.7/site-packages/tensorflow/python/framework/op_def_library.py\", line 788, in _apply_op_helper\n    op_def=op_def)\n  File \"/Users/xihajun/anaconda3/lib/python3.7/site-packages/tensorflow/python/util/deprecation.py\", line 507, in new_func\n    return func(*args, **kwargs)\n  File \"/Users/xihajun/anaconda3/lib/python3.7/site-packages/tensorflow/python/framework/ops.py\", line 3300, in create_op\n    op_def=op_def)\n  File \"/Users/xihajun/anaconda3/lib/python3.7/site-packages/tensorflow/python/framework/ops.py\", line 1801, in __init__\n    self._traceback = tf_stack.extract_stack()\n\nInvalidArgumentError (see above for traceback): Expected begin[0] == 0 (got -1) and size[0] == 0 (got 1) when input.dim_size(0) == 0\n\t [[node loss_6/Slice_1 (defined at <ipython-input-207-06ecb52feb87>:1) ]]\n",
     "output_type": "error",
     "traceback": [
      "\u001b[0;31m---------------------------------------------------------------------------\u001b[0m",
      "\u001b[0;31mInvalidArgumentError\u001b[0m                      Traceback (most recent call last)",
      "\u001b[0;32m~/anaconda3/lib/python3.7/site-packages/tensorflow/python/client/session.py\u001b[0m in \u001b[0;36m_do_call\u001b[0;34m(self, fn, *args)\u001b[0m\n\u001b[1;32m   1333\u001b[0m     \u001b[0;32mtry\u001b[0m\u001b[0;34m:\u001b[0m\u001b[0;34m\u001b[0m\u001b[0;34m\u001b[0m\u001b[0m\n\u001b[0;32m-> 1334\u001b[0;31m       \u001b[0;32mreturn\u001b[0m \u001b[0mfn\u001b[0m\u001b[0;34m(\u001b[0m\u001b[0;34m*\u001b[0m\u001b[0margs\u001b[0m\u001b[0;34m)\u001b[0m\u001b[0;34m\u001b[0m\u001b[0;34m\u001b[0m\u001b[0m\n\u001b[0m\u001b[1;32m   1335\u001b[0m     \u001b[0;32mexcept\u001b[0m \u001b[0merrors\u001b[0m\u001b[0;34m.\u001b[0m\u001b[0mOpError\u001b[0m \u001b[0;32mas\u001b[0m \u001b[0me\u001b[0m\u001b[0;34m:\u001b[0m\u001b[0;34m\u001b[0m\u001b[0;34m\u001b[0m\u001b[0m\n",
      "\u001b[0;32m~/anaconda3/lib/python3.7/site-packages/tensorflow/python/client/session.py\u001b[0m in \u001b[0;36m_run_fn\u001b[0;34m(feed_dict, fetch_list, target_list, options, run_metadata)\u001b[0m\n\u001b[1;32m   1318\u001b[0m       return self._call_tf_sessionrun(\n\u001b[0;32m-> 1319\u001b[0;31m           options, feed_dict, fetch_list, target_list, run_metadata)\n\u001b[0m\u001b[1;32m   1320\u001b[0m \u001b[0;34m\u001b[0m\u001b[0m\n",
      "\u001b[0;32m~/anaconda3/lib/python3.7/site-packages/tensorflow/python/client/session.py\u001b[0m in \u001b[0;36m_call_tf_sessionrun\u001b[0;34m(self, options, feed_dict, fetch_list, target_list, run_metadata)\u001b[0m\n\u001b[1;32m   1406\u001b[0m         \u001b[0mself\u001b[0m\u001b[0;34m.\u001b[0m\u001b[0m_session\u001b[0m\u001b[0;34m,\u001b[0m \u001b[0moptions\u001b[0m\u001b[0;34m,\u001b[0m \u001b[0mfeed_dict\u001b[0m\u001b[0;34m,\u001b[0m \u001b[0mfetch_list\u001b[0m\u001b[0;34m,\u001b[0m \u001b[0mtarget_list\u001b[0m\u001b[0;34m,\u001b[0m\u001b[0;34m\u001b[0m\u001b[0;34m\u001b[0m\u001b[0m\n\u001b[0;32m-> 1407\u001b[0;31m         run_metadata)\n\u001b[0m\u001b[1;32m   1408\u001b[0m \u001b[0;34m\u001b[0m\u001b[0m\n",
      "\u001b[0;31mInvalidArgumentError\u001b[0m: Expected begin[0] == 0 (got -1) and size[0] == 0 (got 1) when input.dim_size(0) == 0\n\t [[{{node loss_6/Slice_1}}]]",
      "\nDuring handling of the above exception, another exception occurred:\n",
      "\u001b[0;31mInvalidArgumentError\u001b[0m                      Traceback (most recent call last)",
      "\u001b[0;32m<ipython-input-212-4522c32f4de4>\u001b[0m in \u001b[0;36m<module>\u001b[0;34m\u001b[0m\n\u001b[1;32m      7\u001b[0m         \u001b[0;32mfor\u001b[0m \u001b[0m_\u001b[0m \u001b[0;32min\u001b[0m \u001b[0mrange\u001b[0m\u001b[0;34m(\u001b[0m\u001b[0mn_batches\u001b[0m\u001b[0;34m)\u001b[0m\u001b[0;34m:\u001b[0m\u001b[0;34m\u001b[0m\u001b[0;34m\u001b[0m\u001b[0m\n\u001b[1;32m      8\u001b[0m             \u001b[0mX_batch\u001b[0m\u001b[0;34m,\u001b[0m \u001b[0mY_batch\u001b[0m \u001b[0;34m=\u001b[0m \u001b[0mtrain\u001b[0m\u001b[0;34m[\u001b[0m\u001b[0mi\u001b[0m\u001b[0;34m]\u001b[0m\u001b[0;34m,\u001b[0m \u001b[0mlabel\u001b[0m\u001b[0;34m[\u001b[0m\u001b[0mi\u001b[0m\u001b[0;34m]\u001b[0m\u001b[0;34m\u001b[0m\u001b[0;34m\u001b[0m\u001b[0m\n\u001b[0;32m----> 9\u001b[0;31m             \u001b[0m_\u001b[0m\u001b[0;34m,\u001b[0m \u001b[0mloss_batch\u001b[0m \u001b[0;34m=\u001b[0m \u001b[0msess\u001b[0m\u001b[0;34m.\u001b[0m\u001b[0mrun\u001b[0m\u001b[0;34m(\u001b[0m\u001b[0;34m[\u001b[0m\u001b[0moptimizer\u001b[0m\u001b[0;34m,\u001b[0m \u001b[0mloss\u001b[0m\u001b[0;34m]\u001b[0m\u001b[0;34m,\u001b[0m \u001b[0mfeed_dict\u001b[0m \u001b[0;34m=\u001b[0m \u001b[0;34m{\u001b[0m\u001b[0mX\u001b[0m\u001b[0;34m:\u001b[0m \u001b[0mX_batch\u001b[0m\u001b[0;34m,\u001b[0m \u001b[0mY\u001b[0m\u001b[0;34m:\u001b[0m \u001b[0mY_batch\u001b[0m\u001b[0;34m}\u001b[0m\u001b[0;34m)\u001b[0m\u001b[0;34m\u001b[0m\u001b[0;34m\u001b[0m\u001b[0m\n\u001b[0m\u001b[1;32m     10\u001b[0m             \u001b[0mtotal_loss\u001b[0m \u001b[0;34m+=\u001b[0m \u001b[0mloss_batch\u001b[0m\u001b[0;34m\u001b[0m\u001b[0;34m\u001b[0m\u001b[0m\n\u001b[1;32m     11\u001b[0m         \u001b[0mprint\u001b[0m\u001b[0;34m(\u001b[0m\u001b[0;34m'loss'\u001b[0m\u001b[0;34m,\u001b[0m\u001b[0mtotal_loss\u001b[0m\u001b[0;34m/\u001b[0m\u001b[0mn_batches\u001b[0m\u001b[0;34m)\u001b[0m\u001b[0;34m\u001b[0m\u001b[0;34m\u001b[0m\u001b[0m\n",
      "\u001b[0;32m~/anaconda3/lib/python3.7/site-packages/tensorflow/python/client/session.py\u001b[0m in \u001b[0;36mrun\u001b[0;34m(self, fetches, feed_dict, options, run_metadata)\u001b[0m\n\u001b[1;32m    927\u001b[0m     \u001b[0;32mtry\u001b[0m\u001b[0;34m:\u001b[0m\u001b[0;34m\u001b[0m\u001b[0;34m\u001b[0m\u001b[0m\n\u001b[1;32m    928\u001b[0m       result = self._run(None, fetches, feed_dict, options_ptr,\n\u001b[0;32m--> 929\u001b[0;31m                          run_metadata_ptr)\n\u001b[0m\u001b[1;32m    930\u001b[0m       \u001b[0;32mif\u001b[0m \u001b[0mrun_metadata\u001b[0m\u001b[0;34m:\u001b[0m\u001b[0;34m\u001b[0m\u001b[0;34m\u001b[0m\u001b[0m\n\u001b[1;32m    931\u001b[0m         \u001b[0mproto_data\u001b[0m \u001b[0;34m=\u001b[0m \u001b[0mtf_session\u001b[0m\u001b[0;34m.\u001b[0m\u001b[0mTF_GetBuffer\u001b[0m\u001b[0;34m(\u001b[0m\u001b[0mrun_metadata_ptr\u001b[0m\u001b[0;34m)\u001b[0m\u001b[0;34m\u001b[0m\u001b[0;34m\u001b[0m\u001b[0m\n",
      "\u001b[0;32m~/anaconda3/lib/python3.7/site-packages/tensorflow/python/client/session.py\u001b[0m in \u001b[0;36m_run\u001b[0;34m(self, handle, fetches, feed_dict, options, run_metadata)\u001b[0m\n\u001b[1;32m   1150\u001b[0m     \u001b[0;32mif\u001b[0m \u001b[0mfinal_fetches\u001b[0m \u001b[0;32mor\u001b[0m \u001b[0mfinal_targets\u001b[0m \u001b[0;32mor\u001b[0m \u001b[0;34m(\u001b[0m\u001b[0mhandle\u001b[0m \u001b[0;32mand\u001b[0m \u001b[0mfeed_dict_tensor\u001b[0m\u001b[0;34m)\u001b[0m\u001b[0;34m:\u001b[0m\u001b[0;34m\u001b[0m\u001b[0;34m\u001b[0m\u001b[0m\n\u001b[1;32m   1151\u001b[0m       results = self._do_run(handle, final_targets, final_fetches,\n\u001b[0;32m-> 1152\u001b[0;31m                              feed_dict_tensor, options, run_metadata)\n\u001b[0m\u001b[1;32m   1153\u001b[0m     \u001b[0;32melse\u001b[0m\u001b[0;34m:\u001b[0m\u001b[0;34m\u001b[0m\u001b[0;34m\u001b[0m\u001b[0m\n\u001b[1;32m   1154\u001b[0m       \u001b[0mresults\u001b[0m \u001b[0;34m=\u001b[0m \u001b[0;34m[\u001b[0m\u001b[0;34m]\u001b[0m\u001b[0;34m\u001b[0m\u001b[0;34m\u001b[0m\u001b[0m\n",
      "\u001b[0;32m~/anaconda3/lib/python3.7/site-packages/tensorflow/python/client/session.py\u001b[0m in \u001b[0;36m_do_run\u001b[0;34m(self, handle, target_list, fetch_list, feed_dict, options, run_metadata)\u001b[0m\n\u001b[1;32m   1326\u001b[0m     \u001b[0;32mif\u001b[0m \u001b[0mhandle\u001b[0m \u001b[0;32mis\u001b[0m \u001b[0;32mNone\u001b[0m\u001b[0;34m:\u001b[0m\u001b[0;34m\u001b[0m\u001b[0;34m\u001b[0m\u001b[0m\n\u001b[1;32m   1327\u001b[0m       return self._do_call(_run_fn, feeds, fetches, targets, options,\n\u001b[0;32m-> 1328\u001b[0;31m                            run_metadata)\n\u001b[0m\u001b[1;32m   1329\u001b[0m     \u001b[0;32melse\u001b[0m\u001b[0;34m:\u001b[0m\u001b[0;34m\u001b[0m\u001b[0;34m\u001b[0m\u001b[0m\n\u001b[1;32m   1330\u001b[0m       \u001b[0;32mreturn\u001b[0m \u001b[0mself\u001b[0m\u001b[0;34m.\u001b[0m\u001b[0m_do_call\u001b[0m\u001b[0;34m(\u001b[0m\u001b[0m_prun_fn\u001b[0m\u001b[0;34m,\u001b[0m \u001b[0mhandle\u001b[0m\u001b[0;34m,\u001b[0m \u001b[0mfeeds\u001b[0m\u001b[0;34m,\u001b[0m \u001b[0mfetches\u001b[0m\u001b[0;34m)\u001b[0m\u001b[0;34m\u001b[0m\u001b[0;34m\u001b[0m\u001b[0m\n",
      "\u001b[0;32m~/anaconda3/lib/python3.7/site-packages/tensorflow/python/client/session.py\u001b[0m in \u001b[0;36m_do_call\u001b[0;34m(self, fn, *args)\u001b[0m\n\u001b[1;32m   1346\u001b[0m           \u001b[0;32mpass\u001b[0m\u001b[0;34m\u001b[0m\u001b[0;34m\u001b[0m\u001b[0m\n\u001b[1;32m   1347\u001b[0m       \u001b[0mmessage\u001b[0m \u001b[0;34m=\u001b[0m \u001b[0merror_interpolation\u001b[0m\u001b[0;34m.\u001b[0m\u001b[0minterpolate\u001b[0m\u001b[0;34m(\u001b[0m\u001b[0mmessage\u001b[0m\u001b[0;34m,\u001b[0m \u001b[0mself\u001b[0m\u001b[0;34m.\u001b[0m\u001b[0m_graph\u001b[0m\u001b[0;34m)\u001b[0m\u001b[0;34m\u001b[0m\u001b[0;34m\u001b[0m\u001b[0m\n\u001b[0;32m-> 1348\u001b[0;31m       \u001b[0;32mraise\u001b[0m \u001b[0mtype\u001b[0m\u001b[0;34m(\u001b[0m\u001b[0me\u001b[0m\u001b[0;34m)\u001b[0m\u001b[0;34m(\u001b[0m\u001b[0mnode_def\u001b[0m\u001b[0;34m,\u001b[0m \u001b[0mop\u001b[0m\u001b[0;34m,\u001b[0m \u001b[0mmessage\u001b[0m\u001b[0;34m)\u001b[0m\u001b[0;34m\u001b[0m\u001b[0;34m\u001b[0m\u001b[0m\n\u001b[0m\u001b[1;32m   1349\u001b[0m \u001b[0;34m\u001b[0m\u001b[0m\n\u001b[1;32m   1350\u001b[0m   \u001b[0;32mdef\u001b[0m \u001b[0m_extend_graph\u001b[0m\u001b[0;34m(\u001b[0m\u001b[0mself\u001b[0m\u001b[0;34m)\u001b[0m\u001b[0;34m:\u001b[0m\u001b[0;34m\u001b[0m\u001b[0;34m\u001b[0m\u001b[0m\n",
      "\u001b[0;31mInvalidArgumentError\u001b[0m: Expected begin[0] == 0 (got -1) and size[0] == 0 (got 1) when input.dim_size(0) == 0\n\t [[node loss_6/Slice_1 (defined at <ipython-input-207-06ecb52feb87>:1) ]]\n\nCaused by op 'loss_6/Slice_1', defined at:\n  File \"/Users/xihajun/anaconda3/lib/python3.7/runpy.py\", line 193, in _run_module_as_main\n    \"__main__\", mod_spec)\n  File \"/Users/xihajun/anaconda3/lib/python3.7/runpy.py\", line 85, in _run_code\n    exec(code, run_globals)\n  File \"/Users/xihajun/anaconda3/lib/python3.7/site-packages/ipykernel_launcher.py\", line 16, in <module>\n    app.launch_new_instance()\n  File \"/Users/xihajun/anaconda3/lib/python3.7/site-packages/traitlets/config/application.py\", line 658, in launch_instance\n    app.start()\n  File \"/Users/xihajun/anaconda3/lib/python3.7/site-packages/ipykernel/kernelapp.py\", line 505, in start\n    self.io_loop.start()\n  File \"/Users/xihajun/anaconda3/lib/python3.7/site-packages/tornado/platform/asyncio.py\", line 132, in start\n    self.asyncio_loop.run_forever()\n  File \"/Users/xihajun/anaconda3/lib/python3.7/asyncio/base_events.py\", line 528, in run_forever\n    self._run_once()\n  File \"/Users/xihajun/anaconda3/lib/python3.7/asyncio/base_events.py\", line 1764, in _run_once\n    handle._run()\n  File \"/Users/xihajun/anaconda3/lib/python3.7/asyncio/events.py\", line 88, in _run\n    self._context.run(self._callback, *self._args)\n  File \"/Users/xihajun/anaconda3/lib/python3.7/site-packages/tornado/ioloop.py\", line 758, in _run_callback\n    ret = callback()\n  File \"/Users/xihajun/anaconda3/lib/python3.7/site-packages/tornado/stack_context.py\", line 300, in null_wrapper\n    return fn(*args, **kwargs)\n  File \"/Users/xihajun/anaconda3/lib/python3.7/site-packages/tornado/gen.py\", line 1233, in inner\n    self.run()\n  File \"/Users/xihajun/anaconda3/lib/python3.7/site-packages/tornado/gen.py\", line 1147, in run\n    yielded = self.gen.send(value)\n  File \"/Users/xihajun/anaconda3/lib/python3.7/site-packages/ipykernel/kernelbase.py\", line 357, in process_one\n    yield gen.maybe_future(dispatch(*args))\n  File \"/Users/xihajun/anaconda3/lib/python3.7/site-packages/tornado/gen.py\", line 326, in wrapper\n    yielded = next(result)\n  File \"/Users/xihajun/anaconda3/lib/python3.7/site-packages/ipykernel/kernelbase.py\", line 267, in dispatch_shell\n    yield gen.maybe_future(handler(stream, idents, msg))\n  File \"/Users/xihajun/anaconda3/lib/python3.7/site-packages/tornado/gen.py\", line 326, in wrapper\n    yielded = next(result)\n  File \"/Users/xihajun/anaconda3/lib/python3.7/site-packages/ipykernel/kernelbase.py\", line 534, in execute_request\n    user_expressions, allow_stdin,\n  File \"/Users/xihajun/anaconda3/lib/python3.7/site-packages/tornado/gen.py\", line 326, in wrapper\n    yielded = next(result)\n  File \"/Users/xihajun/anaconda3/lib/python3.7/site-packages/ipykernel/ipkernel.py\", line 294, in do_execute\n    res = shell.run_cell(code, store_history=store_history, silent=silent)\n  File \"/Users/xihajun/anaconda3/lib/python3.7/site-packages/ipykernel/zmqshell.py\", line 536, in run_cell\n    return super(ZMQInteractiveShell, self).run_cell(*args, **kwargs)\n  File \"/Users/xihajun/anaconda3/lib/python3.7/site-packages/IPython/core/interactiveshell.py\", line 2819, in run_cell\n    raw_cell, store_history, silent, shell_futures)\n  File \"/Users/xihajun/anaconda3/lib/python3.7/site-packages/IPython/core/interactiveshell.py\", line 2845, in _run_cell\n    return runner(coro)\n  File \"/Users/xihajun/anaconda3/lib/python3.7/site-packages/IPython/core/async_helpers.py\", line 67, in _pseudo_sync_runner\n    coro.send(None)\n  File \"/Users/xihajun/anaconda3/lib/python3.7/site-packages/IPython/core/interactiveshell.py\", line 3020, in run_cell_async\n    interactivity=interactivity, compiler=compiler, result=result)\n  File \"/Users/xihajun/anaconda3/lib/python3.7/site-packages/IPython/core/interactiveshell.py\", line 3185, in run_ast_nodes\n    if (yield from self.run_code(code, result)):\n  File \"/Users/xihajun/anaconda3/lib/python3.7/site-packages/IPython/core/interactiveshell.py\", line 3267, in run_code\n    exec(code_obj, self.user_global_ns, self.user_ns)\n  File \"<ipython-input-207-06ecb52feb87>\", line 1, in <module>\n    entropy = tf.nn.softmax_cross_entropy_with_logits(labels = Y, logits= logits, name=\"loss\")\n  File \"/Users/xihajun/anaconda3/lib/python3.7/site-packages/tensorflow/python/util/deprecation.py\", line 324, in new_func\n    return func(*args, **kwargs)\n  File \"/Users/xihajun/anaconda3/lib/python3.7/site-packages/tensorflow/python/ops/nn_ops.py\", line 2561, in softmax_cross_entropy_with_logits\n    labels=labels, logits=logits, axis=dim, name=name)\n  File \"/Users/xihajun/anaconda3/lib/python3.7/site-packages/tensorflow/python/ops/nn_ops.py\", line 2370, in softmax_cross_entropy_with_logits_v2\n    labels=labels, logits=logits, axis=axis, name=name)\n  File \"/Users/xihajun/anaconda3/lib/python3.7/site-packages/tensorflow/python/util/deprecation.py\", line 507, in new_func\n    return func(*args, **kwargs)\n  File \"/Users/xihajun/anaconda3/lib/python3.7/site-packages/tensorflow/python/ops/nn_ops.py\", line 2465, in softmax_cross_entropy_with_logits_v2_helper\n    labels = _flatten_outer_dims(labels)\n  File \"/Users/xihajun/anaconda3/lib/python3.7/site-packages/tensorflow/python/ops/nn_ops.py\", line 2095, in _flatten_outer_dims\n    array_ops.shape(logits), [math_ops.subtract(rank, 1)], [1])\n  File \"/Users/xihajun/anaconda3/lib/python3.7/site-packages/tensorflow/python/ops/array_ops.py\", line 707, in slice\n    return gen_array_ops._slice(input_, begin, size, name=name)\n  File \"/Users/xihajun/anaconda3/lib/python3.7/site-packages/tensorflow/python/ops/gen_array_ops.py\", line 8236, in _slice\n    \"Slice\", input=input, begin=begin, size=size, name=name)\n  File \"/Users/xihajun/anaconda3/lib/python3.7/site-packages/tensorflow/python/framework/op_def_library.py\", line 788, in _apply_op_helper\n    op_def=op_def)\n  File \"/Users/xihajun/anaconda3/lib/python3.7/site-packages/tensorflow/python/util/deprecation.py\", line 507, in new_func\n    return func(*args, **kwargs)\n  File \"/Users/xihajun/anaconda3/lib/python3.7/site-packages/tensorflow/python/framework/ops.py\", line 3300, in create_op\n    op_def=op_def)\n  File \"/Users/xihajun/anaconda3/lib/python3.7/site-packages/tensorflow/python/framework/ops.py\", line 1801, in __init__\n    self._traceback = tf_stack.extract_stack()\n\nInvalidArgumentError (see above for traceback): Expected begin[0] == 0 (got -1) and size[0] == 0 (got 1) when input.dim_size(0) == 0\n\t [[node loss_6/Slice_1 (defined at <ipython-input-207-06ecb52feb87>:1) ]]\n"
     ]
    }
   ],
   "source": [
    "with tf.Session() as sess:\n",
    "    sess.run(tf.global_variables_initializer())\n",
    "    n_batches = 26\n",
    "    for i in range(n_epochs):\n",
    "        total_loss = 0\n",
    "        \n",
    "        for _ in range(n_batches):\n",
    "            X_batch, Y_batch = train[i], label[i]\n",
    "            _, loss_batch = sess.run([optimizer, loss], feed_dict = {X: X_batch, Y: Y_batch})\n",
    "            total_loss += loss_batch\n",
    "        print('loss',total_loss/n_batches)"
   ]
  },
  {
   "cell_type": "code",
   "execution_count": 213,
   "metadata": {},
   "outputs": [],
   "source": [
    "import tensorflow as tf\n",
    "mnist = tf.keras.datasets.mnist"
   ]
  },
  {
   "cell_type": "code",
   "execution_count": 215,
   "metadata": {},
   "outputs": [
    {
     "name": "stdout",
     "output_type": "stream",
     "text": [
      "Downloading data from https://storage.googleapis.com/tensorflow/tf-keras-datasets/mnist.npz\n",
      "11493376/11490434 [==============================] - 1s 0us/step\n"
     ]
    }
   ],
   "source": [
    "(x_train, y_train),(x_test, y_test) = mnist.load_data()\n"
   ]
  },
  {
   "cell_type": "code",
   "execution_count": 278,
   "metadata": {},
   "outputs": [],
   "source": [
    "model = tf.keras.models.Sequential([\n",
    "  tf.keras.layers.Flatten(input_shape=[1,26]),\n",
    "  tf.keras.layers.Dense(1, activation=tf.nn.relu),\n",
    "  tf.keras.layers.Dropout(0.2),\n",
    "  tf.keras.layers.Dense(26, activation=tf.nn.softmax)\n",
    "])\n"
   ]
  },
  {
   "cell_type": "code",
   "execution_count": 279,
   "metadata": {},
   "outputs": [
    {
     "data": {
      "text/plain": [
       "[0, 0, 0, 0, 1, 0, 0, 0, 0, 0, 0, 0, 0, 0, 0, 0, 0, 0, 0, 0, 0, 0, 0, 0, 0, 0]"
      ]
     },
     "execution_count": 279,
     "metadata": {},
     "output_type": "execute_result"
    }
   ],
   "source": [
    "text, train, label = caeserde('ABCDEFGHIJKLMNOPQRSTUVWXYZ')\n",
    "#train = np.array(train)\n",
    "##label = np.array(label)\n",
    "\n",
    "labels = []\n",
    "for i in range(len(label)):\n",
    "    labels.append(listtransfer(label[i]))\n",
    "trains = []\n",
    "for i in range(len(train)):\n",
    "    trains.append(listtransfer(train[i]))\n",
    "trains[1]"
   ]
  },
  {
   "cell_type": "code",
   "execution_count": 287,
   "metadata": {},
   "outputs": [
    {
     "name": "stdout",
     "output_type": "stream",
     "text": [
      "Epoch 1/100\n",
      "185/185 [==============================] - 0s 1ms/sample - loss: 7.9280 - acc: 0.0324\n",
      "Epoch 2/100\n",
      "185/185 [==============================] - 0s 39us/sample - loss: 7.7666 - acc: 0.0270\n",
      "Epoch 3/100\n",
      "185/185 [==============================] - 0s 41us/sample - loss: 7.7783 - acc: 0.0486\n",
      "Epoch 4/100\n",
      "185/185 [==============================] - 0s 43us/sample - loss: 7.8421 - acc: 0.0270\n",
      "Epoch 5/100\n",
      "185/185 [==============================] - 0s 43us/sample - loss: 7.4817 - acc: 0.0432\n",
      "Epoch 6/100\n",
      "185/185 [==============================] - 0s 44us/sample - loss: 7.2314 - acc: 0.0432\n",
      "Epoch 7/100\n",
      "185/185 [==============================] - 0s 44us/sample - loss: 7.2540 - acc: 0.0216\n",
      "Epoch 8/100\n",
      "185/185 [==============================] - 0s 44us/sample - loss: 7.4741 - acc: 0.0270\n",
      "Epoch 9/100\n",
      "185/185 [==============================] - 0s 46us/sample - loss: 7.2431 - acc: 0.0216\n",
      "Epoch 10/100\n",
      "185/185 [==============================] - 0s 45us/sample - loss: 6.9719 - acc: 0.0378\n",
      "Epoch 11/100\n",
      "185/185 [==============================] - 0s 46us/sample - loss: 6.8947 - acc: 0.0432\n",
      "Epoch 12/100\n",
      "185/185 [==============================] - 0s 46us/sample - loss: 7.0199 - acc: 0.0216\n",
      "Epoch 13/100\n",
      "185/185 [==============================] - 0s 45us/sample - loss: 7.1728 - acc: 0.0486\n",
      "Epoch 14/100\n",
      "185/185 [==============================] - 0s 47us/sample - loss: 6.7812 - acc: 0.0486\n",
      "Epoch 15/100\n",
      "185/185 [==============================] - 0s 48us/sample - loss: 6.5013 - acc: 0.0432\n",
      "Epoch 16/100\n",
      "185/185 [==============================] - 0s 45us/sample - loss: 6.4221 - acc: 0.0432\n",
      "Epoch 17/100\n",
      "185/185 [==============================] - 0s 44us/sample - loss: 6.6540 - acc: 0.0486\n",
      "Epoch 18/100\n",
      "185/185 [==============================] - 0s 45us/sample - loss: 6.6767 - acc: 0.0432\n",
      "Epoch 19/100\n",
      "185/185 [==============================] - 0s 43us/sample - loss: 6.2481 - acc: 0.0324\n",
      "Epoch 20/100\n",
      "185/185 [==============================] - 0s 42us/sample - loss: 6.3630 - acc: 0.0541\n",
      "Epoch 21/100\n",
      "185/185 [==============================] - 0s 44us/sample - loss: 6.4519 - acc: 0.0270\n",
      "Epoch 22/100\n",
      "185/185 [==============================] - 0s 44us/sample - loss: 6.5396 - acc: 0.0216\n",
      "Epoch 23/100\n",
      "185/185 [==============================] - 0s 47us/sample - loss: 6.3434 - acc: 0.0324\n",
      "Epoch 24/100\n",
      "185/185 [==============================] - 0s 51us/sample - loss: 6.1220 - acc: 0.0270\n",
      "Epoch 25/100\n",
      "185/185 [==============================] - 0s 45us/sample - loss: 6.3269 - acc: 0.0270\n",
      "Epoch 26/100\n",
      "185/185 [==============================] - 0s 45us/sample - loss: 6.1312 - acc: 0.0486\n",
      "Epoch 27/100\n",
      "185/185 [==============================] - 0s 47us/sample - loss: 5.9936 - acc: 0.0270\n",
      "Epoch 28/100\n",
      "185/185 [==============================] - 0s 49us/sample - loss: 6.1912 - acc: 0.0432\n",
      "Epoch 29/100\n",
      "185/185 [==============================] - 0s 48us/sample - loss: 5.8027 - acc: 0.0649\n",
      "Epoch 30/100\n",
      "185/185 [==============================] - 0s 45us/sample - loss: 5.9581 - acc: 0.0324\n",
      "Epoch 31/100\n",
      "185/185 [==============================] - 0s 45us/sample - loss: 6.1506 - acc: 0.0486\n",
      "Epoch 32/100\n",
      "185/185 [==============================] - 0s 46us/sample - loss: 6.0694 - acc: 0.0270\n",
      "Epoch 33/100\n",
      "185/185 [==============================] - 0s 43us/sample - loss: 5.8406 - acc: 0.0432\n",
      "Epoch 34/100\n",
      "185/185 [==============================] - 0s 45us/sample - loss: 5.9845 - acc: 0.0324\n",
      "Epoch 35/100\n",
      "185/185 [==============================] - 0s 44us/sample - loss: 6.1389 - acc: 0.0324\n",
      "Epoch 36/100\n",
      "185/185 [==============================] - 0s 47us/sample - loss: 5.9684 - acc: 0.0378\n",
      "Epoch 37/100\n",
      "185/185 [==============================] - 0s 45us/sample - loss: 5.8076 - acc: 0.0541\n",
      "Epoch 38/100\n",
      "185/185 [==============================] - 0s 43us/sample - loss: 6.0519 - acc: 0.0216\n",
      "Epoch 39/100\n",
      "185/185 [==============================] - 0s 46us/sample - loss: 5.7193 - acc: 0.0486\n",
      "Epoch 40/100\n",
      "185/185 [==============================] - 0s 47us/sample - loss: 5.7956 - acc: 0.0432\n",
      "Epoch 41/100\n",
      "185/185 [==============================] - 0s 45us/sample - loss: 5.8603 - acc: 0.0432\n",
      "Epoch 42/100\n",
      "185/185 [==============================] - 0s 52us/sample - loss: 6.0877 - acc: 0.0378\n",
      "Epoch 43/100\n",
      "185/185 [==============================] - 0s 48us/sample - loss: 5.9008 - acc: 0.0378\n",
      "Epoch 44/100\n",
      "185/185 [==============================] - 0s 45us/sample - loss: 6.0374 - acc: 0.0378\n",
      "Epoch 45/100\n",
      "185/185 [==============================] - 0s 45us/sample - loss: 5.7524 - acc: 0.0270\n",
      "Epoch 46/100\n",
      "185/185 [==============================] - 0s 47us/sample - loss: 5.9343 - acc: 0.0324\n",
      "Epoch 47/100\n",
      "185/185 [==============================] - 0s 45us/sample - loss: 5.9972 - acc: 0.0270\n",
      "Epoch 48/100\n",
      "185/185 [==============================] - 0s 51us/sample - loss: 5.8609 - acc: 0.0270\n",
      "Epoch 49/100\n",
      "185/185 [==============================] - 0s 46us/sample - loss: 5.7144 - acc: 0.0486\n",
      "Epoch 50/100\n",
      "185/185 [==============================] - 0s 47us/sample - loss: 6.0335 - acc: 0.0270\n",
      "Epoch 51/100\n",
      "185/185 [==============================] - 0s 46us/sample - loss: 5.8113 - acc: 0.0324\n",
      "Epoch 52/100\n",
      "185/185 [==============================] - 0s 47us/sample - loss: 5.6633 - acc: 0.0486\n",
      "Epoch 53/100\n",
      "185/185 [==============================] - 0s 47us/sample - loss: 5.6564 - acc: 0.0270\n",
      "Epoch 54/100\n",
      "185/185 [==============================] - 0s 45us/sample - loss: 5.9281 - acc: 0.0270\n",
      "Epoch 55/100\n",
      "185/185 [==============================] - 0s 42us/sample - loss: 5.7100 - acc: 0.0541\n",
      "Epoch 56/100\n",
      "185/185 [==============================] - 0s 47us/sample - loss: 5.8964 - acc: 0.0973\n",
      "Epoch 57/100\n",
      "185/185 [==============================] - 0s 45us/sample - loss: 5.7166 - acc: 0.1027\n",
      "Epoch 58/100\n",
      "185/185 [==============================] - 0s 44us/sample - loss: 5.5601 - acc: 0.0919\n",
      "Epoch 59/100\n",
      "185/185 [==============================] - 0s 47us/sample - loss: 5.7681 - acc: 0.0757\n",
      "Epoch 60/100\n",
      "185/185 [==============================] - 0s 45us/sample - loss: 5.4121 - acc: 0.0649\n",
      "Epoch 61/100\n",
      "185/185 [==============================] - 0s 46us/sample - loss: 5.3934 - acc: 0.0595\n",
      "Epoch 62/100\n",
      "185/185 [==============================] - 0s 47us/sample - loss: 5.3700 - acc: 0.0919\n",
      "Epoch 63/100\n",
      "185/185 [==============================] - 0s 46us/sample - loss: 5.7876 - acc: 0.0919\n",
      "Epoch 64/100\n",
      "185/185 [==============================] - 0s 48us/sample - loss: 5.7270 - acc: 0.0432\n",
      "Epoch 65/100\n",
      "185/185 [==============================] - 0s 48us/sample - loss: 5.2373 - acc: 0.0757\n",
      "Epoch 66/100\n",
      "185/185 [==============================] - 0s 46us/sample - loss: 6.0109 - acc: 0.0649\n",
      "Epoch 67/100\n",
      "185/185 [==============================] - 0s 46us/sample - loss: 5.7773 - acc: 0.0811\n",
      "Epoch 68/100\n",
      "185/185 [==============================] - 0s 45us/sample - loss: 5.6132 - acc: 0.0757\n",
      "Epoch 69/100\n",
      "185/185 [==============================] - 0s 42us/sample - loss: 5.6754 - acc: 0.0865\n",
      "Epoch 70/100\n",
      "185/185 [==============================] - 0s 43us/sample - loss: 5.5203 - acc: 0.0757\n",
      "Epoch 71/100\n",
      "185/185 [==============================] - 0s 44us/sample - loss: 5.2370 - acc: 0.0486\n",
      "Epoch 72/100\n",
      "185/185 [==============================] - 0s 45us/sample - loss: 5.2415 - acc: 0.0811\n",
      "Epoch 73/100\n",
      "185/185 [==============================] - 0s 46us/sample - loss: 5.7359 - acc: 0.0919\n",
      "Epoch 74/100\n",
      "185/185 [==============================] - 0s 45us/sample - loss: 5.4339 - acc: 0.0757\n",
      "Epoch 75/100\n",
      "185/185 [==============================] - 0s 45us/sample - loss: 5.7732 - acc: 0.0703\n",
      "Epoch 76/100\n",
      "185/185 [==============================] - 0s 44us/sample - loss: 5.3796 - acc: 0.0865\n",
      "Epoch 77/100\n",
      "185/185 [==============================] - 0s 44us/sample - loss: 5.6255 - acc: 0.0595\n",
      "Epoch 78/100\n",
      "185/185 [==============================] - 0s 46us/sample - loss: 5.5905 - acc: 0.0973\n",
      "Epoch 79/100\n",
      "185/185 [==============================] - 0s 45us/sample - loss: 5.4553 - acc: 0.0973\n",
      "Epoch 80/100\n",
      "185/185 [==============================] - 0s 44us/sample - loss: 5.6009 - acc: 0.0703\n",
      "Epoch 81/100\n",
      "185/185 [==============================] - 0s 42us/sample - loss: 5.6904 - acc: 0.0757\n",
      "Epoch 82/100\n",
      "185/185 [==============================] - 0s 43us/sample - loss: 5.6581 - acc: 0.0703\n",
      "Epoch 83/100\n"
     ]
    },
    {
     "name": "stdout",
     "output_type": "stream",
     "text": [
      "185/185 [==============================] - 0s 45us/sample - loss: 5.6612 - acc: 0.0757\n",
      "Epoch 84/100\n",
      "185/185 [==============================] - 0s 45us/sample - loss: 5.5097 - acc: 0.0757\n",
      "Epoch 85/100\n",
      "185/185 [==============================] - 0s 44us/sample - loss: 5.3209 - acc: 0.0757\n",
      "Epoch 86/100\n",
      "185/185 [==============================] - 0s 40us/sample - loss: 5.3761 - acc: 0.0757\n",
      "Epoch 87/100\n",
      "185/185 [==============================] - 0s 40us/sample - loss: 5.4721 - acc: 0.0486\n",
      "Epoch 88/100\n",
      "185/185 [==============================] - 0s 42us/sample - loss: 5.0111 - acc: 0.0703\n",
      "Epoch 89/100\n",
      "185/185 [==============================] - 0s 40us/sample - loss: 5.3479 - acc: 0.0703\n",
      "Epoch 90/100\n",
      "185/185 [==============================] - 0s 41us/sample - loss: 5.6453 - acc: 0.0811\n",
      "Epoch 91/100\n",
      "185/185 [==============================] - 0s 40us/sample - loss: 5.2680 - acc: 0.0703\n",
      "Epoch 92/100\n",
      "185/185 [==============================] - 0s 43us/sample - loss: 5.2121 - acc: 0.0919\n",
      "Epoch 93/100\n",
      "185/185 [==============================] - 0s 38us/sample - loss: 5.3554 - acc: 0.0703\n",
      "Epoch 94/100\n",
      "185/185 [==============================] - 0s 42us/sample - loss: 5.3617 - acc: 0.0811\n",
      "Epoch 95/100\n",
      "185/185 [==============================] - 0s 39us/sample - loss: 5.4990 - acc: 0.0595\n",
      "Epoch 96/100\n",
      "185/185 [==============================] - 0s 38us/sample - loss: 5.3464 - acc: 0.0757\n",
      "Epoch 97/100\n",
      "185/185 [==============================] - 0s 39us/sample - loss: 5.2291 - acc: 0.0703\n",
      "Epoch 98/100\n",
      "185/185 [==============================] - 0s 38us/sample - loss: 5.7324 - acc: 0.0757\n",
      "Epoch 99/100\n",
      "185/185 [==============================] - 0s 43us/sample - loss: 5.6241 - acc: 0.0757\n",
      "Epoch 100/100\n",
      "185/185 [==============================] - 0s 40us/sample - loss: 5.2524 - acc: 0.0973\n"
     ]
    },
    {
     "data": {
      "text/plain": [
       "<tensorflow.python.keras.callbacks.History at 0xb3b795dd8>"
      ]
     },
     "execution_count": 287,
     "metadata": {},
     "output_type": "execute_result"
    }
   ],
   "source": [
    "model = tf.keras.models.Sequential([\n",
    "  tf.keras.layers.Flatten(input_shape=[]),\n",
    "  tf.keras.layers.Dense(1, activation=tf.nn.relu),\n",
    "  tf.keras.layers.Dropout(0.2),\n",
    "  tf.keras.layers.Dense(26, activation=tf.nn.softmax)\n",
    "])\n",
    "\n",
    "model.compile(optimizer='adam',\n",
    "              loss='sparse_categorical_crossentropy',\n",
    "              metrics=['accuracy'])\n",
    "text, train, label = caeserde('WERTYUIOPOIUGFDSASXCVBNMKJHGFREWQASXCVBNMJKUJYTFRDCVBNMKLOIUYTFCVBABCDEFTYGUHIJGFTGHJKLGYFHJRTFYGUHIJOKIHUGYFTGHJKLJHJGFJKLJHGFDCVBNMHGFDSRTRYUHIJKOIUYTREWQAZXCVBNMFGHIJKLMNOPQRSTUVWXYZ')\n",
    "\n",
    "\n",
    "model.fit(train, label, epochs=100)"
   ]
  },
  {
   "cell_type": "code",
   "execution_count": 253,
   "metadata": {},
   "outputs": [
    {
     "data": {
      "text/plain": [
       "array([ 3,  4,  5,  6,  7,  8,  9, 10, 11, 12, 13, 14, 15, 16, 17, 18, 19,\n",
       "       20, 21, 22, 23, 24, 25,  0,  1,  2])"
      ]
     },
     "execution_count": 253,
     "metadata": {},
     "output_type": "execute_result"
    }
   ],
   "source": [
    "train"
   ]
  },
  {
   "cell_type": "code",
   "execution_count": 242,
   "metadata": {},
   "outputs": [],
   "source": [
    "train = np.array(train)"
   ]
  },
  {
   "cell_type": "code",
   "execution_count": 239,
   "metadata": {},
   "outputs": [],
   "source": [
    "labels = np.array(labels)"
   ]
  },
  {
   "cell_type": "code",
   "execution_count": 288,
   "metadata": {},
   "outputs": [
    {
     "name": "stdout",
     "output_type": "stream",
     "text": [
      "Epoch 1/5\n",
      "60000/60000 [==============================] - 7s 123us/sample - loss: 0.2205 - acc: 0.9347\n",
      "Epoch 2/5\n",
      "60000/60000 [==============================] - 7s 119us/sample - loss: 0.0987 - acc: 0.9700\n",
      "Epoch 3/5\n",
      "60000/60000 [==============================] - 7s 121us/sample - loss: 0.0705 - acc: 0.9782\n",
      "Epoch 4/5\n",
      "60000/60000 [==============================] - 7s 117us/sample - loss: 0.0539 - acc: 0.9835\n",
      "Epoch 5/5\n",
      "60000/60000 [==============================] - 7s 117us/sample - loss: 0.0414 - acc: 0.9870\n",
      "10000/10000 [==============================] - 0s 37us/sample - loss: 0.0681 - acc: 0.9794\n"
     ]
    },
    {
     "data": {
      "text/plain": [
       "[0.0681498436906375, 0.9794]"
      ]
     },
     "execution_count": 288,
     "metadata": {},
     "output_type": "execute_result"
    }
   ],
   "source": [
    "import tensorflow as tf\n",
    "mnist = tf.keras.datasets.mnist\n",
    "\n",
    "(x_train, y_train),(x_test, y_test) = mnist.load_data()\n",
    "x_train, x_test = x_train / 255.0, x_test / 255.0\n",
    "\n",
    "model = tf.keras.models.Sequential([\n",
    "  tf.keras.layers.Flatten(input_shape=(28, 28)),\n",
    "  tf.keras.layers.Dense(512, activation=tf.nn.relu),\n",
    "  tf.keras.layers.Dropout(0.2),\n",
    "  tf.keras.layers.Dense(10, activation=tf.nn.softmax)\n",
    "])\n",
    "model.compile(optimizer='adam',\n",
    "              loss='sparse_categorical_crossentropy',\n",
    "              metrics=['accuracy'])\n",
    "\n",
    "model.fit(x_train, y_train, epochs=5)\n",
    "model.evaluate(x_test, y_test)"
   ]
  },
  {
   "cell_type": "code",
   "execution_count": null,
   "metadata": {},
   "outputs": [],
   "source": []
  }
 ],
 "metadata": {
  "kernelspec": {
   "display_name": "Python 3",
   "language": "python",
   "name": "python3"
  },
  "language_info": {
   "codemirror_mode": {
    "name": "ipython",
    "version": 3
   },
   "file_extension": ".py",
   "mimetype": "text/x-python",
   "name": "python",
   "nbconvert_exporter": "python",
   "pygments_lexer": "ipython3",
   "version": "3.7.1"
  },
  "toc": {
   "base_numbering": 1,
   "nav_menu": {},
   "number_sections": true,
   "sideBar": true,
   "skip_h1_title": false,
   "title_cell": "Table of Contents",
   "title_sidebar": "Contents",
   "toc_cell": false,
   "toc_position": {},
   "toc_section_display": true,
   "toc_window_display": false
  }
 },
 "nbformat": 4,
 "nbformat_minor": 2
}
