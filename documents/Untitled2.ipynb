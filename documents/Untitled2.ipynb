{
 "cells": [
  {
   "cell_type": "code",
   "execution_count": null,
   "metadata": {},
   "outputs": [],
   "source": [
    "# first we need to creat a training dataset\n",
    "def caeserde(plaintext, key=3):\n",
    "    L2I = dict(zip(\"ABCDEFGHIJKLMNOPQRSTUVWXYZ\", range(26)))\n",
    "    I2L = dict(zip(range(26), \"ABCDEFGHIJKLMNOPQRSTUVWXYZ\"))\n",
    "    ciphertext = \"\"\n",
    "    ciphernum = []\n",
    "    plainnum = []\n",
    "\n",
    "    for c in plaintext.upper():\n",
    "        if c.isalpha():\n",
    "            # L2I[c]+key represents the order eg A=1 B=2\n",
    "            ciphertext += I2L[(L2I[c] + key) % 26]\n",
    "            ciphernum.append((L2I[c] + key) % 26)\n",
    "            plainnum.append((L2I[c]) % 26)\n",
    "        else:\n",
    "            ciphertext += c\n",
    "            ciphernum.append('-1')\n",
    "    return (ciphertext, ciphernum, plainnum)\n",
    "\n",
    "def caeserde(plaintext, key=3):\n",
    "    L2I = dict(zip(\"ABCDEFGHIJKLMNOPQRSTUVWXYZ\", range(26)))\n",
    "    I2L = dict(zip(range(26), \"ABCDEFGHIJKLMNOPQRSTUVWXYZ\"))\n",
    "    ciphertext = \"\"\n",
    "    ciphernum = []\n",
    "    plainnum = []\n",
    "    \n",
    "    for c in plaintext.upper():\n",
    "        if c.isalpha():\n",
    "            # L2I[c]+key represents the order eg A=1 B=2\n",
    "            ciphertext += I2L[(L2I[c] + key) % 26]\n",
    "            ciphernum.append((L2I[c] + key) % 26)\n",
    "            plainnum.append((L2I[c]) % 26)\n",
    "        else:\n",
    "            ciphertext += c\n",
    "            ciphernum.append('-1')\n",
    "    return (ciphertext, ciphernum, plainnum)"
   ]
  }
 ],
 "metadata": {
  "kernelspec": {
   "display_name": "Python 3",
   "language": "python",
   "name": "python3"
  },
  "language_info": {
   "codemirror_mode": {
    "name": "ipython",
    "version": 3
   },
   "file_extension": ".py",
   "mimetype": "text/x-python",
   "name": "python",
   "nbconvert_exporter": "python",
   "pygments_lexer": "ipython3",
   "version": "3.7.1"
  },
  "toc": {
   "base_numbering": 1,
   "nav_menu": {},
   "number_sections": true,
   "sideBar": true,
   "skip_h1_title": false,
   "title_cell": "Table of Contents",
   "title_sidebar": "Contents",
   "toc_cell": false,
   "toc_position": {},
   "toc_section_display": true,
   "toc_window_display": false
  }
 },
 "nbformat": 4,
 "nbformat_minor": 2
}
